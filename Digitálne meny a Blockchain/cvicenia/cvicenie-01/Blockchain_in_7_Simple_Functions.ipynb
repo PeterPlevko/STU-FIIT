{
  "nbformat": 4,
  "nbformat_minor": 0,
  "metadata": {
    "colab": {
      "name": "Blockchain Explained in 7 Simple Functions.ipynb",
      "provenance": [],
      "collapsed_sections": [],
      "include_colab_link": true
    },
    "kernelspec": {
      "name": "python3",
      "display_name": "Python 3"
    }
  },
  "cells": [
    {
      "cell_type": "markdown",
      "metadata": {
        "id": "view-in-github",
        "colab_type": "text"
      },
      "source": [
        "<a href=\"https://colab.research.google.com/github/shanaka-desoysa/notes/blob/main/docs/blockchain/Blockchain_Explained_in_7_Simple_Functions.ipynb\" target=\"_blank\"><img src=\"https://colab.research.google.com/assets/colab-badge.svg\" alt=\"Open In Colab\"/></a>"
      ]
    },
    {
      "cell_type": "markdown",
      "metadata": {
        "id": "oGttrdcndLkh"
      },
      "source": [
        "---\n",
        "# Blockchain Explained in 7 Simple Functions\n",
        "\n",
        "---\n",
        "Practical hands-on guide to implement your own blockchain with 7 simple Python functions."
      ]
    },
    {
      "cell_type": "markdown",
      "metadata": {
        "id": "opeq0gCMdwci"
      },
      "source": [
        "## Hashing Function\n",
        "\n",
        "At the heart of the blockchain is the hashing function. Without encryption, the blockchain will be easily manipulable and transactions will be able to be fraudulently inserted. Here we're using a simple MD5 hashing algorithm. If you're interested in what's actually being used in bitcoin, read [here](https://en.bitcoin.it/wiki/Block_hashing_algorithm)."
      ]
    },
    {
      "cell_type": "code",
      "metadata": {
        "id": "tgvaLbWndIK-"
      },
      "source": [
        "import hashlib\n",
        "import json\n",
        "\n",
        "def hash_function(k):\n",
        "    \"\"\"Hashes our transaction.\"\"\"\n",
        "    if type(k) is not str:\n",
        "        k = json.dumps(k, sort_keys=True)\n",
        "    \n",
        "    return hashlib.sha256(k.encode('utf-8')).hexdigest()"
      ],
      "execution_count": 1,
      "outputs": []
    },
    {
      "cell_type": "code",
      "metadata": {
        "id": "qJQxw2QCd3Om",
        "colab": {
          "base_uri": "https://localhost:8080/",
          "height": 35
        },
        "outputId": "0ca1161c-927a-4ba3-9124-f19814ddb608"
      },
      "source": [
        "hash_function('www.geni.ai')"
      ],
      "execution_count": 2,
      "outputs": [
        {
          "output_type": "execute_result",
          "data": {
            "application/vnd.google.colaboratory.intrinsic+json": {
              "type": "string"
            },
            "text/plain": [
              "'8bfae4a2d420bce8036bd69ed798765a00e103901b7389386373315d7506143f'"
            ]
          },
          "metadata": {
            "tags": []
          },
          "execution_count": 2
        }
      ]
    },
    {
      "cell_type": "markdown",
      "metadata": {
        "id": "N0iOe5o0fG8F"
      },
      "source": [
        "## State Management\n",
        "\n",
        "The ‘state’ is the record of who owns what. For example, *[Geni AI](https://www.geni.ai)* have 100 coins and give 5 to *John Smith*, then the state will be the value of the dictionary below.\n",
        "\n",
        "`{'transaction': {'Geni AI': 95, 'John Smith': 5}}`"
      ]
    },
    {
      "cell_type": "code",
      "metadata": {
        "id": "jxOFyyrid8cW"
      },
      "source": [
        "def update_state(transaction, state):\n",
        "    state = state.copy()\n",
        "\n",
        "    for key in transaction:\n",
        "        if key in state.keys():\n",
        "            state[key] += transaction[key]\n",
        "        else:\n",
        "            state[key] = transaction[key]\n",
        "\n",
        "    return state"
      ],
      "execution_count": 3,
      "outputs": []
    },
    {
      "cell_type": "markdown",
      "metadata": {
        "id": "MrdF67M-gSi7"
      },
      "source": [
        "## Transaction Validation\n",
        "\n",
        "The important thing to note is that overdrafts cannot exist. If there are only 10 coins in existence, then I cannot give 11 coins to someone. The below function verifies that the transaction we attempt to make is indeed valid. Also, a transaction must balance. I cannot give 5 coins and have the recipient receive 4 coins, since that would allow the destruction and creation of coins."
      ]
    },
    {
      "cell_type": "code",
      "metadata": {
        "id": "7opymGUZgWM8"
      },
      "source": [
        "def valid_transaction(transaction, state):\n",
        "    \"\"\"A valid transaction must sum to 0.\"\"\"\n",
        "    if sum(transaction.values()) is not 0:\n",
        "        return False\n",
        "\n",
        "    for key in transaction.keys():\n",
        "        if key in state.keys():\n",
        "            account_balance = state[key]\n",
        "        else:\n",
        "            account_balance = 0\n",
        "\n",
        "        if account_balance + transaction[key] < 0:\n",
        "            return False\n",
        "\n",
        "    return True"
      ],
      "execution_count": 4,
      "outputs": []
    },
    {
      "cell_type": "markdown",
      "metadata": {
        "id": "6Fc1DqCzj5Wp"
      },
      "source": [
        "## Make Block\n",
        "Now, we can make our block. The information from the previous block is read, and used to link it to the new block. This, too, is central to the idea of blockchain. Seemingly valid transactions can be attempted to fraudulently be inserted into the blockchain, but decrypting all the previous blocks is computationally (nearly) impossible, which preserves the integrity of the blockchain."
      ]
    },
    {
      "cell_type": "code",
      "metadata": {
        "id": "61HVjbCOfIlU"
      },
      "source": [
        "def make_block(transactions, chain):\n",
        "    \"\"\"Make a block to go into the chain.\"\"\"\n",
        "    parent_hash = chain[-1]['hash']\n",
        "    block_number = chain[-1]['contents']['block_number'] + 1\n",
        "\n",
        "    block_contents = {\n",
        "        'block_number': block_number,\n",
        "        'parent_hash': parent_hash,\n",
        "        'transaction_count': block_number + 1,\n",
        "        'transaction': transactions\n",
        "    }\n",
        "\n",
        "    return {'hash': hash_function(block_contents), 'contents': block_contents}"
      ],
      "execution_count": 5,
      "outputs": []
    },
    {
      "cell_type": "markdown",
      "metadata": {
        "id": "6djjZTLPkN6J"
      },
      "source": [
        "## Check Block Hash\n",
        "Below is a small helper function to check the hash of the previous block:"
      ]
    },
    {
      "cell_type": "code",
      "metadata": {
        "id": "Gb5HgOiqkCWp"
      },
      "source": [
        "def check_block_hash(block):\n",
        "    expected_hash = hash_function(block['contents'])\n",
        "\n",
        "    if block['hash'] is not expected_hash:\n",
        "        raise\n",
        "\n",
        "    return"
      ],
      "execution_count": 6,
      "outputs": []
    },
    {
      "cell_type": "markdown",
      "metadata": {
        "id": "6cNZo0CSkaTy"
      },
      "source": [
        "## Block Validity\n",
        "Once we have assembled everything together, its time to create our block. We will now update the blockchain."
      ]
    },
    {
      "cell_type": "code",
      "metadata": {
        "id": "M_0ozxGrkcu5"
      },
      "source": [
        "def check_block_validity(block, parent, state):\n",
        "    parent_number = parent['contents']['block_number']\n",
        "    parent_hash = parent['hash']\n",
        "    block_number = block['contents']['block_number']\n",
        "\n",
        "    for transaction in block['contents']['transaction']:\n",
        "        if valid_transaction(transaction, state):\n",
        "            state = update_state(transaction, state)\n",
        "        else:\n",
        "            raise\n",
        "\n",
        "    check_block_hash(block)  # Check hash integrity\n",
        "\n",
        "    if block_number is not parent_number + 1:\n",
        "        raise\n",
        "\n",
        "    if block['contents']['parent_hash'] is not parent_hash:\n",
        "        raise"
      ],
      "execution_count": 7,
      "outputs": []
    },
    {
      "cell_type": "markdown",
      "metadata": {
        "id": "DrlYcPvMk1bq"
      },
      "source": [
        "## Check Blockchain\n",
        "Before we are finished, the chain must be verified:"
      ]
    },
    {
      "cell_type": "code",
      "metadata": {
        "id": "InZzGnCCk4Cx"
      },
      "source": [
        "def check_chain(chain):\n",
        "    \"\"\"Check the chain is valid.\"\"\"\n",
        "    if type(chain) is str:\n",
        "        try:\n",
        "            chain = json.loads(chain)\n",
        "            assert (type(chain) == list)\n",
        "        except ValueError:\n",
        "            # String passed in was not valid JSON\n",
        "            return False\n",
        "    elif type(chain) is not list:\n",
        "        return False\n",
        "\n",
        "    state = {}\n",
        "\n",
        "    for transaction in chain[0]['contents']['transaction']:\n",
        "        state = update_state(transaction, state)\n",
        "\n",
        "    check_block_hash(chain[0])\n",
        "    parent = chain[0]\n",
        "\n",
        "    for block in chain[1:]:\n",
        "        state = check_block_validity(block, parent, state)\n",
        "        parent = block\n",
        "\n",
        "    return state"
      ],
      "execution_count": 8,
      "outputs": []
    },
    {
      "cell_type": "markdown",
      "metadata": {
        "id": "95kvf0uilMzi"
      },
      "source": [
        "## Add transaction\n",
        "Finally, need a transaction function, which hangs all of the above together:"
      ]
    },
    {
      "cell_type": "code",
      "metadata": {
        "id": "649R2D71lPZD"
      },
      "source": [
        "def add_transaction_to_chain(transaction, state, chain):\n",
        "    if valid_transaction(transaction, state):\n",
        "        state = update_state(transaction, state)\n",
        "    else:\n",
        "        raise Exception('Invalid transaction.')\n",
        "\n",
        "    my_block = make_block(state, chain)\n",
        "    chain.append(my_block)\n",
        "\n",
        "    for transaction in chain:\n",
        "        check_chain(transaction)\n",
        "\n",
        "    return state, chain"
      ],
      "execution_count": 9,
      "outputs": []
    },
    {
      "cell_type": "markdown",
      "metadata": {
        "id": "a8kFnjCZlWsU"
      },
      "source": [
        "## Example\n",
        "So, now we have our 7 functions. How do we interact with it? Well, first we need to start our chain with a Genesis Block. This is the inception of our new coin (or stock inventory, etc). \n",
        "\n",
        "For the purposes of this article, I will say that I, Tom, will start off with 10 coins.\n",
        "Let's say we start off with 100 coins for *[Geni AI](https://www.geni.ai)*."
      ]
    },
    {
      "cell_type": "code",
      "metadata": {
        "id": "e9ZAM2VolYjL"
      },
      "source": [
        "genesis_block = {\n",
        "    'hash': hash_function({\n",
        "        'block_number': 0,\n",
        "        'parent_hash': None,\n",
        "        'transaction_count': 1,\n",
        "        'transaction': [{'Geni AI': 100}]\n",
        "    }),\n",
        "    'contents': {\n",
        "        'block_number': 0,\n",
        "        'parent_hash': None,\n",
        "        'transaction_count': 1,\n",
        "        'transaction': [{'Geni AI': 100}]\n",
        "    },\n",
        "}\n",
        "\n",
        "block_chain = [genesis_block]\n",
        "chain_state = {'Geni AI': 100}"
      ],
      "execution_count": 10,
      "outputs": []
    },
    {
      "cell_type": "markdown",
      "metadata": {
        "id": "N_jmdHKwmAOw"
      },
      "source": [
        "Now, look what happens when *[Geni AI](https://www.geni.ai)* give some coins to user *John Smith*:"
      ]
    },
    {
      "cell_type": "code",
      "metadata": {
        "id": "d7LiP41JkxFa"
      },
      "source": [
        "chain_state, block_chain = add_transaction_to_chain(transaction={'Geni AI': -5, 'John Smith': 5}, state=chain_state, chain=block_chain)"
      ],
      "execution_count": 11,
      "outputs": []
    },
    {
      "cell_type": "code",
      "metadata": {
        "id": "AdTZO6sDfIn8",
        "colab": {
          "base_uri": "https://localhost:8080/"
        },
        "outputId": "6e75fc09-1f44-4f36-d80a-5f30244f6fdb"
      },
      "source": [
        "chain_state"
      ],
      "execution_count": 12,
      "outputs": [
        {
          "output_type": "execute_result",
          "data": {
            "text/plain": [
              "{'Geni AI': 95, 'John Smith': 5}"
            ]
          },
          "metadata": {
            "tags": []
          },
          "execution_count": 12
        }
      ]
    },
    {
      "cell_type": "code",
      "metadata": {
        "id": "7ZKyDtHJfIqU",
        "colab": {
          "base_uri": "https://localhost:8080/"
        },
        "outputId": "09bc86a6-5817-4c1d-f93e-b33dcdcc6908"
      },
      "source": [
        "block_chain"
      ],
      "execution_count": 13,
      "outputs": [
        {
          "output_type": "execute_result",
          "data": {
            "text/plain": [
              "[{'contents': {'block_number': 0,\n",
              "   'parent_hash': None,\n",
              "   'transaction': [{'Geni AI': 100}],\n",
              "   'transaction_count': 1},\n",
              "  'hash': 'e46fb93e96b70a86e6998cd4ba9f20cdbde1e843e5b2343667f0f46d23cee439'},\n",
              " {'contents': {'block_number': 1,\n",
              "   'parent_hash': 'e46fb93e96b70a86e6998cd4ba9f20cdbde1e843e5b2343667f0f46d23cee439',\n",
              "   'transaction': {'Geni AI': 95, 'John Smith': 5},\n",
              "   'transaction_count': 2},\n",
              "  'hash': '65af8f82cd4e55e4db67280eb1cd8c03216ea829ca533135f684524018961c6b'}]"
            ]
          },
          "metadata": {
            "tags": []
          },
          "execution_count": 13
        }
      ]
    },
    {
      "cell_type": "markdown",
      "metadata": {
        "id": "rZlzSjOjs2nC"
      },
      "source": [
        "Our first new transaction has been created and inserted to the top of the stack. "
      ]
    },
    {
      "cell_type": "markdown",
      "metadata": {
        "id": "lngMuWJyucdE"
      },
      "source": [
        "## References\n",
        "https://towardsdatascience.com/blockchain-explained-in-7-python-functions-c49c84f34ba5\n",
        "\n"
      ]
    }
  ]
}