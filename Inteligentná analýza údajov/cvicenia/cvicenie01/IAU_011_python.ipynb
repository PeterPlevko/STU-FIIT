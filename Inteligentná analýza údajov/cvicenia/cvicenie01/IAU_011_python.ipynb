{
 "cells": [
  {
   "cell_type": "markdown",
   "metadata": {
    "colab_type": "text",
    "id": "gnm-4Wr7fX1U"
   },
   "source": [
    "# Úlohy\n"
   ]
  },
  {
   "cell_type": "markdown",
   "metadata": {
    "colab_type": "text",
    "id": "NNi-uBwHfdk0"
   },
   "source": [
    "**Úloha 1**"
   ]
  },
  {
   "cell_type": "markdown",
   "metadata": {
    "colab_type": "text",
    "id": "X3eHvejdfgWj"
   },
   "source": [
    "Máte zadané pole stringov."
   ]
  },
  {
   "cell_type": "code",
   "execution_count": 103,
   "metadata": {
    "colab": {},
    "colab_type": "code",
    "id": "1qj5175CfnTd"
   },
   "outputs": [],
   "source": [
    "pole_na_rozdelenie = [\"Fiit\", \"fiit\", \"megadlhystring!!!\", \"autobiografia\", \"Alica\", \"python\", \"pip\", \"env\", \"jupyter\", \"IAU\"]"
   ]
  },
  {
   "cell_type": "markdown",
   "metadata": {
    "colab_type": "text",
    "id": "RaGmXpqghnQW"
   },
   "source": [
    "Napíšte funkciu, ktorá pre zadané pole stringov vráti nové pole obsahujúce len stringy na prvočíselných indexoch. Potom túto funkciu zavolajte s vyššie deklarovaným polom ako parameter."
   ]
  },
  {
   "cell_type": "code",
   "execution_count": 106,
   "metadata": {
    "colab": {},
    "colab_type": "code",
    "id": "W8ed3W40h529"
   },
   "outputs": [
    {
     "name": "stdout",
     "output_type": "stream",
     "text": [
      "['megadlhystring!!!', 'autobiografia', 'python', 'env']\n"
     ]
    }
   ],
   "source": [
    "prime_numbers = [2, 3, 5, 7, 11, 17, 19]\n",
    "\n",
    "\n",
    "def roztried(array):\n",
    "    newArray = []\n",
    "    for i in range(len(array)):\n",
    "        if i in prime_numbers:\n",
    "            newArray.append(array[i])\n",
    "    return newArray\n",
    "\n",
    "\n",
    "new_array = roztried(pole_na_rozdelenie)\n",
    "print(new_array)\n"
   ]
  },
  {
   "cell_type": "markdown",
   "metadata": {
    "colab_type": "text",
    "id": "OsdZWqFsfvgk"
   },
   "source": [
    "Napíšte program, ktorý vyššie deklarované pole rozdelí do 3 nových polí, pričom v jednom poli budú stringy dĺžky menej ako 5. V druhom poli stringy dĺžky medzi 5 a 10 (vrátane) a stringy začínajúce na písmeno \"a\" alebo ľubovoľné veľké písmeno pričom je string **ľubovoľnej** dĺžky. V treťom poli všetky ostatné stringy."
   ]
  },
  {
   "cell_type": "code",
   "execution_count": 108,
   "metadata": {
    "colab": {},
    "colab_type": "code",
    "id": "19OHF7shiDI9"
   },
   "outputs": [
    {
     "name": "stdout",
     "output_type": "stream",
     "text": [
      "array1: ['env']\n",
      "array2: ['megadlhystring!!!', 'autobiografia', 'python']\n",
      "array3: []\n"
     ]
    }
   ],
   "source": [
    "def rozdel(array):\n",
    "    array1 = []\n",
    "    array2 = []\n",
    "    array3 = []\n",
    "    for i in array:\n",
    "        if len(i) < 5:\n",
    "            array1.append(i)\n",
    "        elif (5 < len(i) and i[0] == \"a\") or i[0].isupper() <= 10:\n",
    "            array2.append(i)\n",
    "        else:\n",
    "            array3.append(i)\n",
    "    print('array1: {}\\narray2: {}\\narray3: {}'.format(array1, array2, array3))\n",
    "\n",
    "\n",
    "rozdel(new_array)"
   ]
  },
  {
   "cell_type": "markdown",
   "metadata": {
    "colab_type": "text",
    "id": "-sZ6ISJMp1bR"
   },
   "source": [
    "**Úloha 2**"
   ]
  },
  {
   "cell_type": "markdown",
   "metadata": {
    "colab_type": "text",
    "id": "MzlqAVbwp4qL"
   },
   "source": [
    "Máme zadané pole intov."
   ]
  },
  {
   "cell_type": "code",
   "execution_count": 113,
   "metadata": {
    "colab": {},
    "colab_type": "code",
    "id": "9dEavPgJp7b1"
   },
   "outputs": [],
   "source": [
    "pole = [1, 4, 5, 1, 7, 5, 1, 5, 4, 2, 3, 4, 6]"
   ]
  },
  {
   "cell_type": "markdown",
   "metadata": {
    "colab_type": "text",
    "id": "Ie99LXSfqacF"
   },
   "source": [
    "Napíšte funkciu, ktorá nám povie pre pole intov, či sa dá toto pole rozdeliť do dvoch polí s rovnakým súčtom. Potom túto funckiu zavolajte na vyššie deklarované pole."
   ]
  },
  {
   "cell_type": "code",
   "execution_count": 111,
   "metadata": {
    "colab": {},
    "colab_type": "code",
    "id": "EAdWK5t_qkhK"
   },
   "outputs": [
    {
     "name": "stdout",
     "output_type": "stream",
     "text": [
      "Not Possible\n"
     ]
    }
   ],
   "source": [
    "def findSplitPoint(arr, n):\n",
    "    leftSum = 0\n",
    "\n",
    "    for i in range(0, n):\n",
    "\n",
    "        leftSum += arr[i]\n",
    "\n",
    "        rightSum = 0\n",
    "        for j in range(i + 1, n):\n",
    "            rightSum += arr[j]\n",
    "\n",
    "        if (leftSum == rightSum):\n",
    "            return i + 1\n",
    "\n",
    "    return -1\n",
    "\n",
    "\n",
    "def printTwoParts(arr, n):\n",
    "    splitPo = findSplitPoint(arr, n)\n",
    "\n",
    "    if (splitPo == -1 or splitPo == n):\n",
    "        print(\"Not Possible\")\n",
    "        return\n",
    "\n",
    "    for i in range(0, n):\n",
    "        if (splitPo == i):\n",
    "            print(\"\")\n",
    "        print(str(arr[i]) + ' ', end='')\n",
    "\n",
    "\n",
    "n = len(pole)\n",
    "printTwoParts(pole, n)"
   ]
  },
  {
   "cell_type": "markdown",
   "metadata": {
    "colab_type": "text",
    "id": "R1wq2vxWqsAE"
   },
   "source": [
    "Skúste túto funkciu rozšíriť. Ak sa toto pole dá rozdeliť do dvoch polí s rovnakým súčtom, vypíšte takéto dve polia (ľubovoľné, ktoré sĺňajú podmienku rovnakého súčtu)."
   ]
  },
  {
   "cell_type": "code",
   "execution_count": 116,
   "metadata": {
    "colab": {},
    "colab_type": "code",
    "id": "OdRvJkGsqrIW"
   },
   "outputs": [
    {
     "name": "stdout",
     "output_type": "stream",
     "text": [
      "1 4 5 1 7 5 1 \n",
      "5 4 2 3 4 6 "
     ]
    }
   ],
   "source": [
    "def findSplitPoint(arr, n):\n",
    "    leftSum = 0\n",
    "\n",
    "    for i in range(0, n):\n",
    "\n",
    "        leftSum += arr[i]\n",
    "\n",
    "        rightSum = 0\n",
    "        for j in range(i + 1, n):\n",
    "            rightSum += arr[j]\n",
    "\n",
    "        if (leftSum == rightSum):\n",
    "            return i + 1\n",
    "\n",
    "    return -1\n",
    "\n",
    "\n",
    "def printTwoParts(arr, n):\n",
    "    splitPo = findSplitPoint(arr, n)\n",
    "\n",
    "    if (splitPo == -1 or splitPo == n):\n",
    "        print(\"Not Possible\")\n",
    "        return\n",
    "\n",
    "    for i in range(0, n):\n",
    "        if (splitPo == i):\n",
    "            print(\"\")\n",
    "        print(str(arr[i]) + ' ', end='')\n",
    "\n",
    "\n",
    "n = len(pole)\n",
    "printTwoParts(pole, n)"
   ]
  }
 ],
 "metadata": {
  "colab": {
   "collapsed_sections": [],
   "name": "IAU_uvod_do_pythonu.ipynb",
   "provenance": []
  },
  "kernelspec": {
   "display_name": "Python 3 (ipykernel)",
   "language": "python",
   "name": "python3"
  },
  "language_info": {
   "codemirror_mode": {
    "name": "ipython",
    "version": 3
   },
   "file_extension": ".py",
   "mimetype": "text/x-python",
   "name": "python",
   "nbconvert_exporter": "python",
   "pygments_lexer": "ipython3",
   "version": "3.10.1"
  }
 },
 "nbformat": 4,
 "nbformat_minor": 1
}
