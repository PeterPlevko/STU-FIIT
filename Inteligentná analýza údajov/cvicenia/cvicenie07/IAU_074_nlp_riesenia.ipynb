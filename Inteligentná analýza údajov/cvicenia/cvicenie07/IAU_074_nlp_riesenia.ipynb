{
 "cells": [
  {
   "cell_type": "code",
   "execution_count": 109,
   "metadata": {},
   "outputs": [],
   "source": [
    "# -*- coding: utf-8 -*-\n",
    "#\n",
    "# Licensed under the Apache License, Version 2.0 (the \"License\");\n",
    "# you may not use this file except in compliance with the License.\n",
    "# You may obtain a copy of the License at\n",
    "#\n",
    "#    http://www.apache.org/licenses/LICENSE-2.0\n",
    "#\n",
    "# Unless required by applicable law or agreed to in writing, software\n",
    "# distributed under the License is distributed on an \"AS IS\" BASIS,\n",
    "# WITHOUT WARRANTIES OR CONDITIONS OF ANY KIND, either express or\n",
    "# implied.\n",
    "# See the License for the specific language governing permissions and\n",
    "# limitations under the License.\n",
    "#"
   ]
  },
  {
   "cell_type": "markdown",
   "metadata": {},
   "source": [
    "# Spracovanie textu v Pythone (pokračovanie)\n",
    "- [NLTK](http://www.nltk.org/book/)\n",
    "- gensim\n",
    "- word2vec\n",
    "- scikit-learn"
   ]
  },
  {
   "cell_type": "code",
   "execution_count": 110,
   "metadata": {},
   "outputs": [
    {
     "name": "stderr",
     "output_type": "stream",
     "text": [
      "[nltk_data] Downloading package inaugural to\n",
      "[nltk_data]     C:\\Users\\pplev\\AppData\\Roaming\\nltk_data...\n",
      "[nltk_data]   Package inaugural is already up-to-date!\n",
      "[nltk_data] Downloading package punkt to\n",
      "[nltk_data]     C:\\Users\\pplev\\AppData\\Roaming\\nltk_data...\n",
      "[nltk_data]   Package punkt is already up-to-date!\n",
      "[nltk_data] Downloading package wordnet to\n",
      "[nltk_data]     C:\\Users\\pplev\\AppData\\Roaming\\nltk_data...\n",
      "[nltk_data]   Package wordnet is already up-to-date!\n",
      "[nltk_data] Downloading package omw-1.4 to\n",
      "[nltk_data]     C:\\Users\\pplev\\AppData\\Roaming\\nltk_data...\n",
      "[nltk_data]   Package omw-1.4 is already up-to-date!\n",
      "[nltk_data] Downloading package averaged_perceptron_tagger to\n",
      "[nltk_data]     C:\\Users\\pplev\\AppData\\Roaming\\nltk_data...\n",
      "[nltk_data]   Package averaged_perceptron_tagger is already up-to-\n",
      "[nltk_data]       date!\n",
      "[nltk_data] Downloading package tagsets to\n",
      "[nltk_data]     C:\\Users\\pplev\\AppData\\Roaming\\nltk_data...\n",
      "[nltk_data]   Package tagsets is already up-to-date!\n",
      "[nltk_data] Downloading package maxent_ne_chunker to\n",
      "[nltk_data]     C:\\Users\\pplev\\AppData\\Roaming\\nltk_data...\n",
      "[nltk_data]   Package maxent_ne_chunker is already up-to-date!\n",
      "[nltk_data] Downloading package words to\n",
      "[nltk_data]     C:\\Users\\pplev\\AppData\\Roaming\\nltk_data...\n",
      "[nltk_data]   Package words is already up-to-date!\n",
      "[nltk_data] Downloading package stopwords to\n",
      "[nltk_data]     C:\\Users\\pplev\\AppData\\Roaming\\nltk_data...\n",
      "[nltk_data]   Package stopwords is already up-to-date!\n"
     ]
    },
    {
     "data": {
      "text/plain": [
       "True"
      ]
     },
     "execution_count": 110,
     "metadata": {},
     "output_type": "execute_result"
    }
   ],
   "source": [
    "import nltk\n",
    "nltk.download('inaugural')\n",
    "nltk.download('punkt')\n",
    "nltk.download('wordnet')\n",
    "nltk.download('omw-1.4')\n",
    "nltk.download('averaged_perceptron_tagger')\n",
    "nltk.download('tagsets')\n",
    "nltk.download('maxent_ne_chunker')\n",
    "nltk.download('words')\n",
    "nltk.download('stopwords')"
   ]
  },
  {
   "cell_type": "code",
   "execution_count": 111,
   "metadata": {},
   "outputs": [],
   "source": [
    "from nltk.corpus import inaugural"
   ]
  },
  {
   "cell_type": "code",
   "execution_count": 112,
   "metadata": {},
   "outputs": [
    {
     "data": {
      "text/plain": [
       "['1789-Washington.txt',\n",
       " '1793-Washington.txt',\n",
       " '1797-Adams.txt',\n",
       " '1801-Jefferson.txt',\n",
       " '1805-Jefferson.txt',\n",
       " '1809-Madison.txt',\n",
       " '1813-Madison.txt',\n",
       " '1817-Monroe.txt',\n",
       " '1821-Monroe.txt',\n",
       " '1825-Adams.txt',\n",
       " '1829-Jackson.txt',\n",
       " '1833-Jackson.txt',\n",
       " '1837-VanBuren.txt',\n",
       " '1841-Harrison.txt',\n",
       " '1845-Polk.txt',\n",
       " '1849-Taylor.txt',\n",
       " '1853-Pierce.txt',\n",
       " '1857-Buchanan.txt',\n",
       " '1861-Lincoln.txt',\n",
       " '1865-Lincoln.txt',\n",
       " '1869-Grant.txt',\n",
       " '1873-Grant.txt',\n",
       " '1877-Hayes.txt',\n",
       " '1881-Garfield.txt',\n",
       " '1885-Cleveland.txt',\n",
       " '1889-Harrison.txt',\n",
       " '1893-Cleveland.txt',\n",
       " '1897-McKinley.txt',\n",
       " '1901-McKinley.txt',\n",
       " '1905-Roosevelt.txt',\n",
       " '1909-Taft.txt',\n",
       " '1913-Wilson.txt',\n",
       " '1917-Wilson.txt',\n",
       " '1921-Harding.txt',\n",
       " '1925-Coolidge.txt',\n",
       " '1929-Hoover.txt',\n",
       " '1933-Roosevelt.txt',\n",
       " '1937-Roosevelt.txt',\n",
       " '1941-Roosevelt.txt',\n",
       " '1945-Roosevelt.txt',\n",
       " '1949-Truman.txt',\n",
       " '1953-Eisenhower.txt',\n",
       " '1957-Eisenhower.txt',\n",
       " '1961-Kennedy.txt',\n",
       " '1965-Johnson.txt',\n",
       " '1969-Nixon.txt',\n",
       " '1973-Nixon.txt',\n",
       " '1977-Carter.txt',\n",
       " '1981-Reagan.txt',\n",
       " '1985-Reagan.txt',\n",
       " '1989-Bush.txt',\n",
       " '1993-Clinton.txt',\n",
       " '1997-Clinton.txt',\n",
       " '2001-Bush.txt',\n",
       " '2005-Bush.txt',\n",
       " '2009-Obama.txt',\n",
       " '2013-Obama.txt',\n",
       " '2017-Trump.txt',\n",
       " '2021-Biden.txt']"
      ]
     },
     "execution_count": 112,
     "metadata": {},
     "output_type": "execute_result"
    }
   ],
   "source": [
    "inaugural.fileids()"
   ]
  },
  {
   "cell_type": "code",
   "execution_count": 113,
   "metadata": {},
   "outputs": [
    {
     "data": {
      "text/plain": [
       "['Fellow', '-', 'Citizens', 'of', 'the', 'Senate', ...]"
      ]
     },
     "execution_count": 113,
     "metadata": {},
     "output_type": "execute_result"
    }
   ],
   "source": [
    "inaugural.words('1789-Washington.txt')"
   ]
  },
  {
   "cell_type": "code",
   "execution_count": 114,
   "metadata": {},
   "outputs": [
    {
     "data": {
      "text/plain": [
       "1538"
      ]
     },
     "execution_count": 114,
     "metadata": {},
     "output_type": "execute_result"
    }
   ],
   "source": [
    "len(inaugural.words('1789-Washington.txt'))"
   ]
  },
  {
   "cell_type": "code",
   "execution_count": 115,
   "metadata": {},
   "outputs": [
    {
     "data": {
      "text/plain": [
       "[['Fellow', '-', 'Citizens', 'of', 'the', 'Senate', 'and', 'of', 'the', 'House', 'of', 'Representatives', ':'], ['Among', 'the', 'vicissitudes', 'incident', 'to', 'life', 'no', 'event', 'could', 'have', 'filled', 'me', 'with', 'greater', 'anxieties', 'than', 'that', 'of', 'which', 'the', 'notification', 'was', 'transmitted', 'by', 'your', 'order', ',', 'and', 'received', 'on', 'the', '14th', 'day', 'of', 'the', 'present', 'month', '.'], ...]"
      ]
     },
     "execution_count": 115,
     "metadata": {},
     "output_type": "execute_result"
    }
   ],
   "source": [
    "inaugural.sents('1789-Washington.txt')"
   ]
  },
  {
   "cell_type": "code",
   "execution_count": 116,
   "metadata": {},
   "outputs": [],
   "source": [
    "texts = []\n",
    "for fileid in inaugural.fileids():\n",
    "    year = fileid[:4]\n",
    "    name = fileid[5:].split('.')[0]\n",
    "    text = ' '.join(inaugural.words(fileid))\n",
    "    texts.append({'name': name, 'year': year, 'text': text})"
   ]
  },
  {
   "cell_type": "code",
   "execution_count": 117,
   "metadata": {},
   "outputs": [
    {
     "data": {
      "text/plain": [
       "{'name': 'Washington',\n",
       " 'year': '1789',\n",
       " 'text': 'Fellow - Citizens of the Senate and of the House of Representatives : Among the vicissitudes incident to life no event could have filled me with greater anxieties than that of which the notification was transmitted by your order , and received on the 14th day of the present month . On the one hand , I was summoned by my Country , whose voice I can never hear but with veneration and love , from a retreat which I had chosen with the fondest predilection , and , in my flattering hopes , with an immutable decision , as the asylum of my declining years -- a retreat which was rendered every day more necessary as well as more dear to me by the addition of habit to inclination , and of frequent interruptions in my health to the gradual waste committed on it by time . On the other hand , the magnitude and difficulty of the trust to which the voice of my country called me , being sufficient to awaken in the wisest and most experienced of her citizens a distrustful scrutiny into his qualifications , could not but overwhelm with despondence one who ( inheriting inferior endowments from nature and unpracticed in the duties of civil administration ) ought to be peculiarly conscious of his own deficiencies . In this conflict of emotions all I dare aver is that it has been my faithful study to collect my duty from a just appreciation of every circumstance by which it might be affected . All I dare hope is that if , in executing this task , I have been too much swayed by a grateful remembrance of former instances , or by an affectionate sensibility to this transcendent proof of the confidence of my fellow citizens , and have thence too little consulted my incapacity as well as disinclination for the weighty and untried cares before me , my error will be palliated by the motives which mislead me , and its consequences be judged by my country with some share of the partiality in which they originated . Such being the impressions under which I have , in obedience to the public summons , repaired to the present station , it would be peculiarly improper to omit in this first official act my fervent supplications to that Almighty Being who rules over the universe , who presides in the councils of nations , and whose providential aids can supply every human defect , that His benediction may consecrate to the liberties and happiness of the people of the United States a Government instituted by themselves for these essential purposes , and may enable every instrument employed in its administration to execute with success the functions allotted to his charge . In tendering this homage to the Great Author of every public and private good , I assure myself that it expresses your sentiments not less than my own , nor those of my fellow citizens at large less than either . No people can be bound to acknowledge and adore the Invisible Hand which conducts the affairs of men more than those of the United States . Every step by which they have advanced to the character of an independent nation seems to have been distinguished by some token of providential agency ; and in the important revolution just accomplished in the system of their united government the tranquil deliberations and voluntary consent of so many distinct communities from which the event has resulted can not be compared with the means by which most governments have been established without some return of pious gratitude , along with an humble anticipation of the future blessings which the past seem to presage . These reflections , arising out of the present crisis , have forced themselves too strongly on my mind to be suppressed . You will join with me , I trust , in thinking that there are none under the influence of which the proceedings of a new and free government can more auspiciously commence . By the article establishing the executive department it is made the duty of the President \" to recommend to your consideration such measures as he shall judge necessary and expedient .\" The circumstances under which I now meet you will acquit me from entering into that subject further than to refer to the great constitutional charter under which you are assembled , and which , in defining your powers , designates the objects to which your attention is to be given . It will be more consistent with those circumstances , and far more congenial with the feelings which actuate me , to substitute , in place of a recommendation of particular measures , the tribute that is due to the talents , the rectitude , and the patriotism which adorn the characters selected to devise and adopt them . In these honorable qualifications I behold the surest pledges that as on one side no local prejudices or attachments , no separate views nor party animosities , will misdirect the comprehensive and equal eye which ought to watch over this great assemblage of communities and interests , so , on another , that the foundation of our national policy will be laid in the pure and immutable principles of private morality , and the preeminence of free government be exemplified by all the attributes which can win the affections of its citizens and command the respect of the world . I dwell on this prospect with every satisfaction which an ardent love for my country can inspire , since there is no truth more thoroughly established than that there exists in the economy and course of nature an indissoluble union between virtue and happiness ; between duty and advantage ; between the genuine maxims of an honest and magnanimous policy and the solid rewards of public prosperity and felicity ; since we ought to be no less persuaded that the propitious smiles of Heaven can never be expected on a nation that disregards the eternal rules of order and right which Heaven itself has ordained ; and since the preservation of the sacred fire of liberty and the destiny of the republican model of government are justly considered , perhaps , as deeply , as finally , staked on the experiment entrusted to the hands of the American people . Besides the ordinary objects submitted to your care , it will remain with your judgment to decide how far an exercise of the occasional power delegated by the fifth article of the Constitution is rendered expedient at the present juncture by the nature of objections which have been urged against the system , or by the degree of inquietude which has given birth to them . Instead of undertaking particular recommendations on this subject , in which I could be guided by no lights derived from official opportunities , I shall again give way to my entire confidence in your discernment and pursuit of the public good ; for I assure myself that whilst you carefully avoid every alteration which might endanger the benefits of an united and effective government , or which ought to await the future lessons of experience , a reverence for the characteristic rights of freemen and a regard for the public harmony will sufficiently influence your deliberations on the question how far the former can be impregnably fortified or the latter be safely and advantageously promoted . To the foregoing observations I have one to add , which will be most properly addressed to the House of Representatives . It concerns myself , and will therefore be as brief as possible . When I was first honored with a call into the service of my country , then on the eve of an arduous struggle for its liberties , the light in which I contemplated my duty required that I should renounce every pecuniary compensation . From this resolution I have in no instance departed ; and being still under the impressions which produced it , I must decline as inapplicable to myself any share in the personal emoluments which may be indispensably included in a permanent provision for the executive department , and must accordingly pray that the pecuniary estimates for the station in which I am placed may during my continuance in it be limited to such actual expenditures as the public good may be thought to require . Having thus imparted to you my sentiments as they have been awakened by the occasion which brings us together , I shall take my present leave ; but not without resorting once more to the benign Parent of the Human Race in humble supplication that , since He has been pleased to favor the American people with opportunities for deliberating in perfect tranquillity , and dispositions for deciding with unparalleled unanimity on a form of government for the security of their union and the advancement of their happiness , so His divine blessing may be equally conspicuous in the enlarged views , the temperate consultations , and the wise measures on which the success of this Government must depend .'}"
      ]
     },
     "execution_count": 117,
     "metadata": {},
     "output_type": "execute_result"
    }
   ],
   "source": [
    "texts[0]"
   ]
  },
  {
   "cell_type": "markdown",
   "metadata": {},
   "source": [
    "## Tokenizácia"
   ]
  },
  {
   "cell_type": "code",
   "execution_count": 118,
   "metadata": {},
   "outputs": [],
   "source": [
    "text = texts[0]['text']"
   ]
  },
  {
   "cell_type": "code",
   "execution_count": 119,
   "metadata": {},
   "outputs": [],
   "source": [
    "sentences = nltk.sent_tokenize(text)"
   ]
  },
  {
   "cell_type": "code",
   "execution_count": 120,
   "metadata": {},
   "outputs": [
    {
     "data": {
      "text/plain": [
       "['Fellow - Citizens of the Senate and of the House of Representatives : Among the vicissitudes incident to life no event could have filled me with greater anxieties than that of which the notification was transmitted by your order , and received on the 14th day of the present month .',\n",
       " 'On the one hand , I was summoned by my Country , whose voice I can never hear but with veneration and love , from a retreat which I had chosen with the fondest predilection , and , in my flattering hopes , with an immutable decision , as the asylum of my declining years -- a retreat which was rendered every day more necessary as well as more dear to me by the addition of habit to inclination , and of frequent interruptions in my health to the gradual waste committed on it by time .',\n",
       " 'On the other hand , the magnitude and difficulty of the trust to which the voice of my country called me , being sufficient to awaken in the wisest and most experienced of her citizens a distrustful scrutiny into his qualifications , could not but overwhelm with despondence one who ( inheriting inferior endowments from nature and unpracticed in the duties of civil administration ) ought to be peculiarly conscious of his own deficiencies .',\n",
       " 'In this conflict of emotions all I dare aver is that it has been my faithful study to collect my duty from a just appreciation of every circumstance by which it might be affected .',\n",
       " 'All I dare hope is that if , in executing this task , I have been too much swayed by a grateful remembrance of former instances , or by an affectionate sensibility to this transcendent proof of the confidence of my fellow citizens , and have thence too little consulted my incapacity as well as disinclination for the weighty and untried cares before me , my error will be palliated by the motives which mislead me , and its consequences be judged by my country with some share of the partiality in which they originated .']"
      ]
     },
     "execution_count": 120,
     "metadata": {},
     "output_type": "execute_result"
    }
   ],
   "source": [
    "sentences[:5]"
   ]
  },
  {
   "cell_type": "code",
   "execution_count": 121,
   "metadata": {},
   "outputs": [],
   "source": [
    "sent = sentences[0]"
   ]
  },
  {
   "cell_type": "code",
   "execution_count": 122,
   "metadata": {},
   "outputs": [],
   "source": [
    "tokens = nltk.word_tokenize(sent)"
   ]
  },
  {
   "cell_type": "code",
   "execution_count": 123,
   "metadata": {},
   "outputs": [
    {
     "data": {
      "text/plain": [
       "['Fellow',\n",
       " '-',\n",
       " 'Citizens',\n",
       " 'of',\n",
       " 'the',\n",
       " 'Senate',\n",
       " 'and',\n",
       " 'of',\n",
       " 'the',\n",
       " 'House',\n",
       " 'of',\n",
       " 'Representatives',\n",
       " ':',\n",
       " 'Among',\n",
       " 'the',\n",
       " 'vicissitudes',\n",
       " 'incident',\n",
       " 'to',\n",
       " 'life',\n",
       " 'no',\n",
       " 'event',\n",
       " 'could',\n",
       " 'have',\n",
       " 'filled',\n",
       " 'me',\n",
       " 'with',\n",
       " 'greater',\n",
       " 'anxieties',\n",
       " 'than',\n",
       " 'that',\n",
       " 'of',\n",
       " 'which',\n",
       " 'the',\n",
       " 'notification',\n",
       " 'was',\n",
       " 'transmitted',\n",
       " 'by',\n",
       " 'your',\n",
       " 'order',\n",
       " ',',\n",
       " 'and',\n",
       " 'received',\n",
       " 'on',\n",
       " 'the',\n",
       " '14th',\n",
       " 'day',\n",
       " 'of',\n",
       " 'the',\n",
       " 'present',\n",
       " 'month',\n",
       " '.']"
      ]
     },
     "execution_count": 123,
     "metadata": {},
     "output_type": "execute_result"
    }
   ],
   "source": [
    "tokens"
   ]
  },
  {
   "cell_type": "markdown",
   "metadata": {},
   "source": [
    "## Stemming\n",
    "\n",
    "Stemming vráti korene slov. Napr. *ryba -> ryb*"
   ]
  },
  {
   "cell_type": "code",
   "execution_count": 124,
   "metadata": {},
   "outputs": [],
   "source": [
    "porter = nltk.PorterStemmer()"
   ]
  },
  {
   "cell_type": "code",
   "execution_count": 125,
   "metadata": {},
   "outputs": [
    {
     "data": {
      "text/plain": [
       "['fellow',\n",
       " '-',\n",
       " 'citizen',\n",
       " 'of',\n",
       " 'the',\n",
       " 'senat',\n",
       " 'and',\n",
       " 'of',\n",
       " 'the',\n",
       " 'hous',\n",
       " 'of',\n",
       " 'repres',\n",
       " ':',\n",
       " 'among',\n",
       " 'the',\n",
       " 'vicissitud',\n",
       " 'incid',\n",
       " 'to',\n",
       " 'life',\n",
       " 'no',\n",
       " 'event',\n",
       " 'could',\n",
       " 'have',\n",
       " 'fill',\n",
       " 'me',\n",
       " 'with',\n",
       " 'greater',\n",
       " 'anxieti',\n",
       " 'than',\n",
       " 'that',\n",
       " 'of',\n",
       " 'which',\n",
       " 'the',\n",
       " 'notif',\n",
       " 'wa',\n",
       " 'transmit',\n",
       " 'by',\n",
       " 'your',\n",
       " 'order',\n",
       " ',',\n",
       " 'and',\n",
       " 'receiv',\n",
       " 'on',\n",
       " 'the',\n",
       " '14th',\n",
       " 'day',\n",
       " 'of',\n",
       " 'the',\n",
       " 'present',\n",
       " 'month',\n",
       " '.']"
      ]
     },
     "execution_count": 125,
     "metadata": {},
     "output_type": "execute_result"
    }
   ],
   "source": [
    "[porter.stem(token) for token in tokens]"
   ]
  },
  {
   "cell_type": "markdown",
   "metadata": {},
   "source": [
    "## Lematizácia\n",
    "\n",
    "Lematizácia prevádza slová na ich základný slovníkový tvar. Napr. *rybe -> ryba*"
   ]
  },
  {
   "cell_type": "code",
   "execution_count": 126,
   "metadata": {},
   "outputs": [],
   "source": [
    "wnl = nltk.WordNetLemmatizer()"
   ]
  },
  {
   "cell_type": "code",
   "execution_count": 127,
   "metadata": {},
   "outputs": [
    {
     "data": {
      "text/plain": [
       "['Fellow',\n",
       " '-',\n",
       " 'Citizens',\n",
       " 'of',\n",
       " 'the',\n",
       " 'Senate',\n",
       " 'and',\n",
       " 'of',\n",
       " 'the',\n",
       " 'House',\n",
       " 'of',\n",
       " 'Representatives',\n",
       " ':',\n",
       " 'Among',\n",
       " 'the',\n",
       " 'vicissitude',\n",
       " 'incident',\n",
       " 'to',\n",
       " 'life',\n",
       " 'no',\n",
       " 'event',\n",
       " 'could',\n",
       " 'have',\n",
       " 'filled',\n",
       " 'me',\n",
       " 'with',\n",
       " 'greater',\n",
       " 'anxiety',\n",
       " 'than',\n",
       " 'that',\n",
       " 'of',\n",
       " 'which',\n",
       " 'the',\n",
       " 'notification',\n",
       " 'wa',\n",
       " 'transmitted',\n",
       " 'by',\n",
       " 'your',\n",
       " 'order',\n",
       " ',',\n",
       " 'and',\n",
       " 'received',\n",
       " 'on',\n",
       " 'the',\n",
       " '14th',\n",
       " 'day',\n",
       " 'of',\n",
       " 'the',\n",
       " 'present',\n",
       " 'month',\n",
       " '.']"
      ]
     },
     "execution_count": 127,
     "metadata": {},
     "output_type": "execute_result"
    }
   ],
   "source": [
    "[wnl.lemmatize(token) for token in tokens]"
   ]
  },
  {
   "cell_type": "markdown",
   "metadata": {},
   "source": [
    "## Part-of-Speech Tagging (POS)"
   ]
  },
  {
   "cell_type": "code",
   "execution_count": 128,
   "metadata": {},
   "outputs": [
    {
     "data": {
      "text/plain": [
       "[('Fellow', 'NNP'),\n",
       " ('-', ':'),\n",
       " ('Citizens', 'NNS'),\n",
       " ('of', 'IN'),\n",
       " ('the', 'DT'),\n",
       " ('Senate', 'NNP'),\n",
       " ('and', 'CC'),\n",
       " ('of', 'IN'),\n",
       " ('the', 'DT'),\n",
       " ('House', 'NNP'),\n",
       " ('of', 'IN'),\n",
       " ('Representatives', 'NNPS'),\n",
       " (':', ':'),\n",
       " ('Among', 'IN'),\n",
       " ('the', 'DT'),\n",
       " ('vicissitudes', 'NNS'),\n",
       " ('incident', 'NN'),\n",
       " ('to', 'TO'),\n",
       " ('life', 'NN'),\n",
       " ('no', 'DT'),\n",
       " ('event', 'NN'),\n",
       " ('could', 'MD'),\n",
       " ('have', 'VB'),\n",
       " ('filled', 'VBN'),\n",
       " ('me', 'PRP'),\n",
       " ('with', 'IN'),\n",
       " ('greater', 'JJR'),\n",
       " ('anxieties', 'NNS'),\n",
       " ('than', 'IN'),\n",
       " ('that', 'DT'),\n",
       " ('of', 'IN'),\n",
       " ('which', 'WDT'),\n",
       " ('the', 'DT'),\n",
       " ('notification', 'NN'),\n",
       " ('was', 'VBD'),\n",
       " ('transmitted', 'VBN'),\n",
       " ('by', 'IN'),\n",
       " ('your', 'PRP$'),\n",
       " ('order', 'NN'),\n",
       " (',', ','),\n",
       " ('and', 'CC'),\n",
       " ('received', 'VBD'),\n",
       " ('on', 'IN'),\n",
       " ('the', 'DT'),\n",
       " ('14th', 'JJ'),\n",
       " ('day', 'NN'),\n",
       " ('of', 'IN'),\n",
       " ('the', 'DT'),\n",
       " ('present', 'JJ'),\n",
       " ('month', 'NN'),\n",
       " ('.', '.')]"
      ]
     },
     "execution_count": 128,
     "metadata": {},
     "output_type": "execute_result"
    }
   ],
   "source": [
    "tagged = nltk.pos_tag(tokens)\n",
    "tagged"
   ]
  },
  {
   "cell_type": "code",
   "execution_count": 129,
   "metadata": {},
   "outputs": [
    {
     "name": "stdout",
     "output_type": "stream",
     "text": [
      "IN: preposition or conjunction, subordinating\n",
      "    astride among uppon whether out inside pro despite on by throughout\n",
      "    below within for towards near behind atop around if like until below\n",
      "    next into if beside ...\n"
     ]
    }
   ],
   "source": [
    "nltk.help.upenn_tagset('IN')"
   ]
  },
  {
   "cell_type": "code",
   "execution_count": 130,
   "metadata": {},
   "outputs": [
    {
     "name": "stdout",
     "output_type": "stream",
     "text": [
      "NNP: noun, proper, singular\n",
      "    Motown Venneboerger Czestochwa Ranzer Conchita Trumplane Christos\n",
      "    Oceanside Escobar Kreisler Sawyer Cougar Yvette Ervin ODI Darryl CTCA\n",
      "    Shannon A.K.C. Meltex Liverpool ...\n"
     ]
    }
   ],
   "source": [
    "nltk.help.upenn_tagset('NNP')"
   ]
  },
  {
   "cell_type": "markdown",
   "metadata": {},
   "source": [
    "## Name entity (menné entity)"
   ]
  },
  {
   "cell_type": "code",
   "execution_count": 131,
   "metadata": {},
   "outputs": [],
   "source": [
    "entities = nltk.chunk.ne_chunk(tagged)"
   ]
  },
  {
   "cell_type": "code",
   "execution_count": 132,
   "metadata": {},
   "outputs": [
    {
     "name": "stdout",
     "output_type": "stream",
     "text": [
      "Tree('S', [Tree('GPE', [('Fellow', 'NNP')]), ('-', ':'), ('Citizens', 'NNS'), ('of', 'IN'), ('the', 'DT'), Tree('ORGANIZATION', [('Senate', 'NNP')]), ('and', 'CC'), ('of', 'IN'), ('the', 'DT'), Tree('ORGANIZATION', [('House', 'NNP')]), ('of', 'IN'), ('Representatives', 'NNPS'), (':', ':'), ('Among', 'IN'), ('the', 'DT'), ('vicissitudes', 'NNS'), ('incident', 'NN'), ('to', 'TO'), ('life', 'NN'), ('no', 'DT'), ('event', 'NN'), ('could', 'MD'), ('have', 'VB'), ('filled', 'VBN'), ('me', 'PRP'), ('with', 'IN'), ('greater', 'JJR'), ('anxieties', 'NNS'), ('than', 'IN'), ('that', 'DT'), ('of', 'IN'), ('which', 'WDT'), ('the', 'DT'), ('notification', 'NN'), ('was', 'VBD'), ('transmitted', 'VBN'), ('by', 'IN'), ('your', 'PRP$'), ('order', 'NN'), (',', ','), ('and', 'CC'), ('received', 'VBD'), ('on', 'IN'), ('the', 'DT'), ('14th', 'JJ'), ('day', 'NN'), ('of', 'IN'), ('the', 'DT'), ('present', 'JJ'), ('month', 'NN'), ('.', '.')])\n"
     ]
    }
   ],
   "source": [
    "print(entities.__repr__())"
   ]
  },
  {
   "cell_type": "markdown",
   "metadata": {},
   "source": [
    "## N-gramy"
   ]
  },
  {
   "cell_type": "code",
   "execution_count": 133,
   "metadata": {},
   "outputs": [],
   "source": [
    "tokens = nltk.word_tokenize(text)"
   ]
  },
  {
   "cell_type": "code",
   "execution_count": 134,
   "metadata": {},
   "outputs": [
    {
     "data": {
      "text/plain": [
       "[('Fellow', '-'),\n",
       " ('-', 'Citizens'),\n",
       " ('Citizens', 'of'),\n",
       " ('of', 'the'),\n",
       " ('the', 'Senate')]"
      ]
     },
     "execution_count": 134,
     "metadata": {},
     "output_type": "execute_result"
    }
   ],
   "source": [
    "bigrams = list(nltk.bigrams(tokens))\n",
    "bigrams[:5]"
   ]
  },
  {
   "cell_type": "code",
   "execution_count": 135,
   "metadata": {},
   "outputs": [
    {
     "data": {
      "text/plain": [
       "[(('of', 'the'), 20),\n",
       " ((',', 'and'), 15),\n",
       " (('to', 'the'), 11),\n",
       " (('in', 'the'), 9),\n",
       " ((',', 'I'), 7),\n",
       " ((',', 'in'), 7),\n",
       " (('which', 'the'), 6),\n",
       " (('which', 'I'), 6),\n",
       " (('by', 'the'), 6),\n",
       " (('for', 'the'), 6)]"
      ]
     },
     "execution_count": 135,
     "metadata": {},
     "output_type": "execute_result"
    }
   ],
   "source": [
    "nltk.FreqDist(bigrams).most_common(10)"
   ]
  },
  {
   "cell_type": "code",
   "execution_count": 136,
   "metadata": {},
   "outputs": [],
   "source": [
    "stopwords = nltk.corpus.stopwords.words('english')"
   ]
  },
  {
   "cell_type": "code",
   "execution_count": 137,
   "metadata": {},
   "outputs": [
    {
     "data": {
      "text/plain": [
       "['i', 'me', 'my', 'myself', 'we', 'our', 'ours', 'ourselves', 'you', \"you're\"]"
      ]
     },
     "execution_count": 137,
     "metadata": {},
     "output_type": "execute_result"
    }
   ],
   "source": [
    "stopwords[:10]"
   ]
  },
  {
   "cell_type": "code",
   "execution_count": 138,
   "metadata": {},
   "outputs": [],
   "source": [
    "tokens_cleared = [token.lower() for token in tokens if token.isalpha() and token.lower() not in stopwords]"
   ]
  },
  {
   "cell_type": "code",
   "execution_count": 139,
   "metadata": {},
   "outputs": [
    {
     "data": {
      "text/plain": [
       "['fellow',\n",
       " 'citizens',\n",
       " 'senate',\n",
       " 'house',\n",
       " 'representatives',\n",
       " 'among',\n",
       " 'vicissitudes',\n",
       " 'incident',\n",
       " 'life',\n",
       " 'event']"
      ]
     },
     "execution_count": 139,
     "metadata": {},
     "output_type": "execute_result"
    }
   ],
   "source": [
    "tokens_cleared[:10]"
   ]
  },
  {
   "cell_type": "code",
   "execution_count": 140,
   "metadata": {},
   "outputs": [
    {
     "data": {
      "text/plain": [
       "[(('fellow', 'citizens'), 3),\n",
       " (('house', 'representatives'), 2),\n",
       " (('united', 'states'), 2),\n",
       " (('good', 'assure'), 2),\n",
       " (('free', 'government'), 2),\n",
       " (('executive', 'department'), 2),\n",
       " (('american', 'people'), 2),\n",
       " (('public', 'good'), 2),\n",
       " (('citizens', 'senate'), 1),\n",
       " (('senate', 'house'), 1)]"
      ]
     },
     "execution_count": 140,
     "metadata": {},
     "output_type": "execute_result"
    }
   ],
   "source": [
    "nltk.FreqDist(nltk.bigrams(tokens_cleared)).most_common(10)"
   ]
  },
  {
   "cell_type": "code",
   "execution_count": 141,
   "metadata": {},
   "outputs": [
    {
     "data": {
      "text/plain": [
       "[(('fellow', 'citizens', 'senate'), 1),\n",
       " (('citizens', 'senate', 'house'), 1),\n",
       " (('senate', 'house', 'representatives'), 1),\n",
       " (('house', 'representatives', 'among'), 1),\n",
       " (('representatives', 'among', 'vicissitudes'), 1),\n",
       " (('among', 'vicissitudes', 'incident'), 1),\n",
       " (('vicissitudes', 'incident', 'life'), 1),\n",
       " (('incident', 'life', 'event'), 1),\n",
       " (('life', 'event', 'could'), 1),\n",
       " (('event', 'could', 'filled'), 1)]"
      ]
     },
     "execution_count": 141,
     "metadata": {},
     "output_type": "execute_result"
    }
   ],
   "source": [
    "nltk.FreqDist(nltk.trigrams(tokens_cleared)).most_common(10)"
   ]
  },
  {
   "cell_type": "markdown",
   "metadata": {},
   "source": [
    "## WordNet\n",
    "\n",
    "* Lexikálna databáza\n",
    "* Obsahuje synsety: podstatné mená, slovesá, prídavné mená, príslovky\n",
    "* Prepojenia medzi synsetmi: antonymá, hyperonymá, hyponymá, holonymá, meronymá"
   ]
  },
  {
   "cell_type": "code",
   "execution_count": 142,
   "metadata": {},
   "outputs": [],
   "source": [
    "from nltk.corpus import wordnet as wn"
   ]
  },
  {
   "cell_type": "code",
   "execution_count": 143,
   "metadata": {},
   "outputs": [
    {
     "data": {
      "text/plain": [
       "[Synset('car.n.01'),\n",
       " Synset('car.n.02'),\n",
       " Synset('car.n.03'),\n",
       " Synset('car.n.04'),\n",
       " Synset('cable_car.n.01')]"
      ]
     },
     "execution_count": 143,
     "metadata": {},
     "output_type": "execute_result"
    }
   ],
   "source": [
    "wn.synsets('car')"
   ]
  },
  {
   "cell_type": "code",
   "execution_count": 144,
   "metadata": {},
   "outputs": [],
   "source": [
    "car = wn.synset('car.n.01')"
   ]
  },
  {
   "cell_type": "code",
   "execution_count": 145,
   "metadata": {},
   "outputs": [
    {
     "data": {
      "text/plain": [
       "['car', 'auto', 'automobile', 'machine', 'motorcar']"
      ]
     },
     "execution_count": 145,
     "metadata": {},
     "output_type": "execute_result"
    }
   ],
   "source": [
    "car.lemma_names()"
   ]
  },
  {
   "cell_type": "code",
   "execution_count": 146,
   "metadata": {},
   "outputs": [
    {
     "data": {
      "text/plain": [
       "'a motor vehicle with four wheels; usually propelled by an internal combustion engine'"
      ]
     },
     "execution_count": 146,
     "metadata": {},
     "output_type": "execute_result"
    }
   ],
   "source": [
    "car.definition()"
   ]
  },
  {
   "cell_type": "code",
   "execution_count": 147,
   "metadata": {},
   "outputs": [
    {
     "data": {
      "text/plain": [
       "['he needs a car to get to work']"
      ]
     },
     "execution_count": 147,
     "metadata": {},
     "output_type": "execute_result"
    }
   ],
   "source": [
    "car.examples()"
   ]
  },
  {
   "cell_type": "code",
   "execution_count": 148,
   "metadata": {},
   "outputs": [
    {
     "data": {
      "text/plain": [
       "[Synset('ambulance.n.01'),\n",
       " Synset('beach_wagon.n.01'),\n",
       " Synset('bus.n.04'),\n",
       " Synset('cab.n.03'),\n",
       " Synset('compact.n.03'),\n",
       " Synset('convertible.n.01'),\n",
       " Synset('coupe.n.01'),\n",
       " Synset('cruiser.n.01'),\n",
       " Synset('electric.n.01'),\n",
       " Synset('gas_guzzler.n.01'),\n",
       " Synset('hardtop.n.01'),\n",
       " Synset('hatchback.n.01'),\n",
       " Synset('horseless_carriage.n.01'),\n",
       " Synset('hot_rod.n.01'),\n",
       " Synset('jeep.n.01'),\n",
       " Synset('limousine.n.01'),\n",
       " Synset('loaner.n.02'),\n",
       " Synset('minicar.n.01'),\n",
       " Synset('minivan.n.01'),\n",
       " Synset('model_t.n.01'),\n",
       " Synset('pace_car.n.01'),\n",
       " Synset('racer.n.02'),\n",
       " Synset('roadster.n.01'),\n",
       " Synset('sedan.n.01'),\n",
       " Synset('sport_utility.n.01'),\n",
       " Synset('sports_car.n.01'),\n",
       " Synset('stanley_steamer.n.01'),\n",
       " Synset('stock_car.n.01'),\n",
       " Synset('subcompact.n.01'),\n",
       " Synset('touring_car.n.01'),\n",
       " Synset('used-car.n.01')]"
      ]
     },
     "execution_count": 148,
     "metadata": {},
     "output_type": "execute_result"
    }
   ],
   "source": [
    "car.hyponyms()"
   ]
  },
  {
   "cell_type": "code",
   "execution_count": 149,
   "metadata": {},
   "outputs": [
    {
     "data": {
      "text/plain": [
       "[Synset('motor_vehicle.n.01')]"
      ]
     },
     "execution_count": 149,
     "metadata": {},
     "output_type": "execute_result"
    }
   ],
   "source": [
    "car.hypernyms()"
   ]
  },
  {
   "cell_type": "code",
   "execution_count": 150,
   "metadata": {},
   "outputs": [
    {
     "data": {
      "text/plain": [
       "[Synset('accelerator.n.01'),\n",
       " Synset('air_bag.n.01'),\n",
       " Synset('auto_accessory.n.01'),\n",
       " Synset('automobile_engine.n.01'),\n",
       " Synset('automobile_horn.n.01'),\n",
       " Synset('buffer.n.06'),\n",
       " Synset('bumper.n.02'),\n",
       " Synset('car_door.n.01'),\n",
       " Synset('car_mirror.n.01'),\n",
       " Synset('car_seat.n.01'),\n",
       " Synset('car_window.n.01'),\n",
       " Synset('fender.n.01'),\n",
       " Synset('first_gear.n.01'),\n",
       " Synset('floorboard.n.02'),\n",
       " Synset('gasoline_engine.n.01'),\n",
       " Synset('glove_compartment.n.01'),\n",
       " Synset('grille.n.02'),\n",
       " Synset('high_gear.n.01'),\n",
       " Synset('hood.n.09'),\n",
       " Synset('luggage_compartment.n.01'),\n",
       " Synset('rear_window.n.01'),\n",
       " Synset('reverse.n.02'),\n",
       " Synset('roof.n.02'),\n",
       " Synset('running_board.n.01'),\n",
       " Synset('stabilizer_bar.n.01'),\n",
       " Synset('sunroof.n.01'),\n",
       " Synset('tail_fin.n.02'),\n",
       " Synset('third_gear.n.01'),\n",
       " Synset('window.n.02')]"
      ]
     },
     "execution_count": 150,
     "metadata": {},
     "output_type": "execute_result"
    }
   ],
   "source": [
    "car.part_meronyms()"
   ]
  },
  {
   "cell_type": "code",
   "execution_count": 151,
   "metadata": {},
   "outputs": [
    {
     "data": {
      "text/plain": [
       "[Lemma('white.n.02.white')]"
      ]
     },
     "execution_count": 151,
     "metadata": {},
     "output_type": "execute_result"
    }
   ],
   "source": [
    "wn.synsets('black')[0].lemmas()[0].antonyms()"
   ]
  },
  {
   "cell_type": "markdown",
   "metadata": {},
   "source": [
    "# Reprezentácia textu\n",
    "\n",
    "Textový dokument väčšinou reprezentujeme pomocou množiny slov (angl. *bag-of-words*) = vektorom. Zložky vektoru predstavujú jednotlivé slová, resp. n-gramy zo slovníka (pre celý korpus/jazyk). Hodnotou zložiek vektora môže byť:\n",
    "\n",
    "* početnosť\n",
    "* frekvencia\n",
    "* váhovaná frekvencia\n",
    "\n",
    "Slová s vysokou frekvenciou výskytu v jazyku (spojky a pod.) sa označujú ako tzv. *stop slová* a zvyknú sa pri predspracovaní odstraňovať.\n",
    "\n",
    "## TF-IDF\n",
    "* Term frequency * inverse document frequency\n",
    "* `TF` – frekvencia slova v aktuálnom dokumente\n",
    "* `IDF` – záporný logaritmus pravdepodobnosti výskytu slova v dokumente (rovnaká pre všetky dokumenty)\n",
    "* Rôzne varianty (váhovacie schémy): https://en.wikipedia.org/wiki/Tf%E2%80%93idf"
   ]
  },
  {
   "cell_type": "markdown",
   "metadata": {},
   "source": [
    "## Gensim\n",
    "- Knižnica na modelovanie tém v dokumentoch.\n",
    "- Implementuje TF-IDF, LSA, pLSA, LDA, HDP, DTM, word2vec\n",
    "- https://radimrehurek.com/gensim/tutorial.html"
   ]
  },
  {
   "cell_type": "code",
   "execution_count": null,
   "metadata": {},
   "outputs": [],
   "source": []
  },
  {
   "cell_type": "code",
   "execution_count": 157,
   "metadata": {},
   "outputs": [
    {
     "ename": "ModuleNotFoundError",
     "evalue": "No module named 'gensim'",
     "output_type": "error",
     "traceback": [
      "\u001b[1;31m---------------------------------------------------------------------------\u001b[0m",
      "\u001b[1;31mModuleNotFoundError\u001b[0m                       Traceback (most recent call last)",
      "Input \u001b[1;32mIn [157]\u001b[0m, in \u001b[0;36m<module>\u001b[1;34m\u001b[0m\n\u001b[1;32m----> 1\u001b[0m \u001b[38;5;28;01mfrom\u001b[39;00m \u001b[38;5;21;01mgensim\u001b[39;00m \u001b[38;5;28;01mimport\u001b[39;00m corpora, models, similarities\n",
      "\u001b[1;31mModuleNotFoundError\u001b[0m: No module named 'gensim'"
     ]
    }
   ],
   "source": [
    "from gensim import corpora, models, similarities"
   ]
  },
  {
   "cell_type": "code",
   "execution_count": 158,
   "metadata": {},
   "outputs": [],
   "source": [
    "def preprocess_text(text):\n",
    "    tokens = nltk.word_tokenize(text)\n",
    "    stopwords = nltk.corpus.stopwords.words('english')\n",
    "    return [token.lower() for token in tokens if token.isalpha() and token.lower() not in stopwords]"
   ]
  },
  {
   "cell_type": "code",
   "execution_count": null,
   "metadata": {},
   "outputs": [],
   "source": [
    "tokenized_docs = [preprocess_text(text['text']) for text in texts]"
   ]
  },
  {
   "cell_type": "code",
   "execution_count": null,
   "metadata": {},
   "outputs": [],
   "source": [
    "tokenized_docs[4][:10]"
   ]
  },
  {
   "cell_type": "markdown",
   "metadata": {},
   "source": [
    "Odstránenie slov, ktoré sa v korpuse vyskytujú len raz"
   ]
  },
  {
   "cell_type": "code",
   "execution_count": null,
   "metadata": {},
   "outputs": [],
   "source": [
    "from collections import defaultdict\n",
    "\n",
    "frequency = defaultdict(int)\n",
    "for text in tokenized_docs:\n",
    "    for token in text:\n",
    "        frequency[token] += 1\n",
    "\n",
    "tokenized_docs = [[token for token in doc if frequency[token] > 1] for doc in tokenized_docs]"
   ]
  },
  {
   "cell_type": "code",
   "execution_count": null,
   "metadata": {},
   "outputs": [],
   "source": [
    "dictionary = corpora.Dictionary(tokenized_docs)"
   ]
  },
  {
   "cell_type": "code",
   "execution_count": null,
   "metadata": {},
   "outputs": [],
   "source": [
    "# print(dictionary.token2id)"
   ]
  },
  {
   "cell_type": "markdown",
   "metadata": {},
   "source": [
    "Trénovanie TF-IDF modelu"
   ]
  },
  {
   "cell_type": "code",
   "execution_count": null,
   "metadata": {},
   "outputs": [],
   "source": [
    "corpus = [dictionary.doc2bow(doc) for doc in tokenized_docs]"
   ]
  },
  {
   "cell_type": "code",
   "execution_count": null,
   "metadata": {},
   "outputs": [],
   "source": [
    "tfidf_corpus = tfidf_model[corpus]"
   ]
  },
  {
   "cell_type": "code",
   "execution_count": null,
   "metadata": {},
   "outputs": [],
   "source": [
    "tfidf_corpus[0][:10]"
   ]
  },
  {
   "cell_type": "markdown",
   "metadata": {},
   "source": [
    "Ďalšie modely: LSI, LDA, ...\n",
    "\n",
    "Môžeme vypočítať podobnosť výsledných vektorov:"
   ]
  },
  {
   "cell_type": "code",
   "execution_count": null,
   "metadata": {},
   "outputs": [],
   "source": [
    "index = similarities.MatrixSimilarity(tfidf_corpus)"
   ]
  },
  {
   "cell_type": "code",
   "execution_count": null,
   "metadata": {},
   "outputs": [],
   "source": [
    "index[tfidf_corpus[0]]"
   ]
  },
  {
   "cell_type": "markdown",
   "metadata": {},
   "source": [
    "## word2vec\n",
    "\n",
    "Každé slovo má naučený vektor reálnych čísel, ktoré reprezentujú rôzne jeho vlastnosti a zachytávajú viaceré lingvistické pravidelnosti. Môžeme počítať podobnosť medzi slovami ako podobnosť dvoch vektorov.\n",
    "\n",
    "vector('Paris') - vector('France') + vector('Italy') ~= vector('Rome')\n",
    "\n",
    "vector('king') - vector('man') + vector('woman') ~= vector('queen')\n",
    "\n",
    "https://radimrehurek.com/gensim/models/word2vec.html\n",
    "\n",
    "https://medium.com/@mishra.thedeepak/word2vec-in-minutes-gensim-nlp-python-6940f4e00980"
   ]
  },
  {
   "cell_type": "code",
   "execution_count": null,
   "metadata": {},
   "outputs": [],
   "source": [
    "from nltk.corpus import brown"
   ]
  },
  {
   "cell_type": "code",
   "execution_count": null,
   "metadata": {},
   "outputs": [],
   "source": [
    "tfidf_model = models.TfidfModel(corpus)"
   ]
  },
  {
   "cell_type": "code",
   "execution_count": null,
   "metadata": {},
   "outputs": [],
   "source": [
    "sentences = brown.sents()\n",
    "model = models.Word2Vec(sentences, min_count=1)"
   ]
  },
  {
   "cell_type": "code",
   "execution_count": null,
   "metadata": {},
   "outputs": [],
   "source": [
    "model.save('brown_model')"
   ]
  },
  {
   "cell_type": "code",
   "execution_count": null,
   "metadata": {},
   "outputs": [],
   "source": [
    "model = models.Word2Vec.load('brown_model')"
   ]
  },
  {
   "cell_type": "code",
   "execution_count": null,
   "metadata": {},
   "outputs": [],
   "source": [
    "print(model.wv.most_similar(\"mother\"))"
   ]
  },
  {
   "cell_type": "code",
   "execution_count": null,
   "metadata": {},
   "outputs": [],
   "source": [
    "print(model.wv.doesnt_match(\"breakfast cereal dinner lunch\".split()))"
   ]
  },
  {
   "cell_type": "code",
   "execution_count": null,
   "metadata": {},
   "outputs": [],
   "source": [
    "print(model.wv.doesnt_match(\"pizza pasta garden fries\".split()))"
   ]
  },
  {
   "cell_type": "code",
   "execution_count": null,
   "metadata": {},
   "outputs": [],
   "source": [
    "model.wv['human']"
   ]
  },
  {
   "cell_type": "markdown",
   "metadata": {},
   "source": [
    "## Extrakcia čŕt pomocou scikit-learn\n",
    "\n",
    "http://scikit-learn.org/stable/modules/feature_extraction.html#text-feature-extraction"
   ]
  },
  {
   "cell_type": "code",
   "execution_count": null,
   "metadata": {},
   "outputs": [],
   "source": [
    "from sklearn.feature_extraction.text import CountVectorizer\n",
    "from sklearn.feature_extraction.text import TfidfVectorizer"
   ]
  },
  {
   "cell_type": "code",
   "execution_count": null,
   "metadata": {},
   "outputs": [],
   "source": [
    "docs = [text['text'] for text in texts]"
   ]
  },
  {
   "cell_type": "code",
   "execution_count": null,
   "metadata": {},
   "outputs": [],
   "source": [
    "vectorizer = CountVectorizer(stop_words='english')\n",
    "tf = vectorizer.fit_transform(docs)"
   ]
  },
  {
   "cell_type": "code",
   "execution_count": null,
   "metadata": {},
   "outputs": [],
   "source": [
    "tf.toarray()[0][:100]"
   ]
  },
  {
   "cell_type": "code",
   "execution_count": null,
   "metadata": {},
   "outputs": [],
   "source": [
    "vectorizer.get_feature_names()[:100]"
   ]
  },
  {
   "cell_type": "code",
   "execution_count": null,
   "metadata": {},
   "outputs": [],
   "source": [
    "transformer = TfidfVectorizer(stop_words='english')\n",
    "tfidf = transformer.fit_transform(docs)"
   ]
  },
  {
   "cell_type": "code",
   "execution_count": null,
   "metadata": {},
   "outputs": [],
   "source": [
    "tfidf.toarray()[0][:100]"
   ]
  },
  {
   "cell_type": "markdown",
   "metadata": {},
   "source": [
    "## Úlohy\n",
    "\n",
    "1. Vypíšte 10 najčastejších slov z inaugaračných prejavov amerických prezidentov (pre každý prejav zvlášť).\n",
    "2. Pozrite sa na slová s najväčšou váhou podľa TF-IDF; vypíšte pre každý prejav 10 slov s najväčšou váhou. Zmenil sa nejak výsledok oproti prvej úlohe?\n",
    "3. Ktoré dva prejavy sa navzájom najviac podobajú?\n",
    "4. Ako sa menila frekvencia slov `america` a `citizen` v priebehu rokov v týchto prejavoch? (Hint: Ak si neviete rady, pozrite sem: https://www.nltk.org/book/ch02.html. Analogicky môžete zobraziť v grafe priebeh iných slov, ktoré vás zaujímajú.)\n",
    "5. Na zautomatizovanie a sprehľadnenie predspracovania (ale aj ďalších krokov analýzy dát) sa v Pythone používajú tzv. [pipelines](http://scikit-learn.org/stable/modules/generated/sklearn.pipeline.Pipeline.html). Pozrite si, ako pipeliny fungujú: http://zacstewart.com/2014/08/05/pipelines-of-featureunions-of-pipelines.html. Na základe toho prerobte predspracovanie textov (inauguračných prejavov) pomocou pipeliny; budete mať samostatný transformer na tokenizáciu slov (funkcia `preprocess_text` tu v notebooku), odstránenie málopočetných tokenov, prevod textu na vektory a váhovanie pomocou TF-IDF. "
   ]
  },
  {
   "cell_type": "markdown",
   "metadata": {},
   "source": [
    "### Úloha 1"
   ]
  },
  {
   "cell_type": "code",
   "execution_count": 154,
   "metadata": {},
   "outputs": [
    {
     "data": {
      "text/plain": [
       "[('Washington',\n",
       "  '1789',\n",
       "  [('every', 9),\n",
       "   ('government', 8),\n",
       "   ('public', 6),\n",
       "   ('may', 6),\n",
       "   ('citizens', 5),\n",
       "   ('present', 5),\n",
       "   ('country', 5),\n",
       "   ('one', 4),\n",
       "   ('ought', 4),\n",
       "   ('duty', 4)]),\n",
       " ('Washington',\n",
       "  '1793',\n",
       "  [('shall', 3),\n",
       "   ('oath', 2),\n",
       "   ('fellow', 1),\n",
       "   ('citizens', 1),\n",
       "   ('called', 1),\n",
       "   ('upon', 1),\n",
       "   ('voice', 1),\n",
       "   ('country', 1),\n",
       "   ('execute', 1),\n",
       "   ('functions', 1)]),\n",
       " ('Adams',\n",
       "  '1797',\n",
       "  [('people', 20),\n",
       "   ('government', 16),\n",
       "   ('may', 13),\n",
       "   ('nations', 11),\n",
       "   ('country', 10),\n",
       "   ('nation', 9),\n",
       "   ('states', 9),\n",
       "   ('foreign', 8),\n",
       "   ('constitution', 8),\n",
       "   ('honor', 7)]),\n",
       " ('Jefferson',\n",
       "  '1801',\n",
       "  [('government', 12),\n",
       "   ('us', 10),\n",
       "   ('may', 8),\n",
       "   ('fellow', 7),\n",
       "   ('citizens', 7),\n",
       "   ('let', 7),\n",
       "   ('shall', 6),\n",
       "   ('principle', 6),\n",
       "   ('would', 6),\n",
       "   ('one', 6)]),\n",
       " ('Jefferson',\n",
       "  '1805',\n",
       "  [('public', 14),\n",
       "   ('citizens', 10),\n",
       "   ('may', 10),\n",
       "   ('fellow', 8),\n",
       "   ('state', 8),\n",
       "   ('us', 7),\n",
       "   ('among', 7),\n",
       "   ('shall', 7),\n",
       "   ('constitution', 6),\n",
       "   ('time', 6)]),\n",
       " ('Madison',\n",
       "  '1809',\n",
       "  [('nations', 6),\n",
       "   ('public', 6),\n",
       "   ('well', 5),\n",
       "   ('country', 4),\n",
       "   ('peace', 4),\n",
       "   ('rights', 4),\n",
       "   ('states', 4),\n",
       "   ('confidence', 3),\n",
       "   ('full', 3),\n",
       "   ('improvements', 3)]),\n",
       " ('Madison',\n",
       "  '1813',\n",
       "  [('war', 15),\n",
       "   ('country', 5),\n",
       "   ('united', 5),\n",
       "   ('every', 5),\n",
       "   ('british', 5),\n",
       "   ('nation', 4),\n",
       "   ('without', 4),\n",
       "   ('states', 4),\n",
       "   ('spirit', 4),\n",
       "   ('citizens', 4)]),\n",
       " ('Monroe',\n",
       "  '1817',\n",
       "  [('government', 22),\n",
       "   ('great', 21),\n",
       "   ('states', 21),\n",
       "   ('people', 15),\n",
       "   ('us', 14),\n",
       "   ('every', 14),\n",
       "   ('united', 13),\n",
       "   ('may', 10),\n",
       "   ('union', 10),\n",
       "   ('war', 10)]),\n",
       " ('Monroe',\n",
       "  '1821',\n",
       "  [('great', 29),\n",
       "   ('states', 20),\n",
       "   ('would', 18),\n",
       "   ('united', 16),\n",
       "   ('war', 16),\n",
       "   ('citizens', 15),\n",
       "   ('may', 15),\n",
       "   ('made', 15),\n",
       "   ('government', 13),\n",
       "   ('every', 13)]),\n",
       " ('Adams',\n",
       "  '1825',\n",
       "  [('union', 20),\n",
       "   ('government', 17),\n",
       "   ('upon', 16),\n",
       "   ('country', 10),\n",
       "   ('rights', 10),\n",
       "   ('peace', 9),\n",
       "   ('great', 9),\n",
       "   ('public', 9),\n",
       "   ('constitution', 8),\n",
       "   ('first', 8)]),\n",
       " ('Jackson',\n",
       "  '1829',\n",
       "  [('public', 8),\n",
       "   ('shall', 6),\n",
       "   ('government', 6),\n",
       "   ('power', 5),\n",
       "   ('people', 4),\n",
       "   ('may', 4),\n",
       "   ('national', 4),\n",
       "   ('duties', 3),\n",
       "   ('interests', 3),\n",
       "   ('service', 3)]),\n",
       " ('Jackson',\n",
       "  '1833',\n",
       "  [('government', 13),\n",
       "   ('people', 9),\n",
       "   ('union', 9),\n",
       "   ('states', 8),\n",
       "   ('upon', 5),\n",
       "   ('general', 5),\n",
       "   ('powers', 5),\n",
       "   ('united', 4),\n",
       "   ('liberty', 4),\n",
       "   ('preservation', 4)]),\n",
       " ('VanBuren',\n",
       "  '1837',\n",
       "  [('people', 20),\n",
       "   ('every', 20),\n",
       "   ('institutions', 16),\n",
       "   ('government', 16),\n",
       "   ('country', 15),\n",
       "   ('upon', 13),\n",
       "   ('us', 12),\n",
       "   ('may', 11),\n",
       "   ('never', 8),\n",
       "   ('yet', 8)]),\n",
       " ('Harrison',\n",
       "  '1841',\n",
       "  [('power', 47),\n",
       "   ('people', 38),\n",
       "   ('constitution', 36),\n",
       "   ('government', 36),\n",
       "   ('upon', 34),\n",
       "   ('may', 34),\n",
       "   ('one', 28),\n",
       "   ('citizens', 27),\n",
       "   ('executive', 25),\n",
       "   ('country', 24)]),\n",
       " ('Polk',\n",
       "  '1845',\n",
       "  [('government', 47),\n",
       "   ('states', 36),\n",
       "   ('union', 32),\n",
       "   ('would', 21),\n",
       "   ('one', 19),\n",
       "   ('people', 16),\n",
       "   ('powers', 16),\n",
       "   ('country', 15),\n",
       "   ('constitution', 15),\n",
       "   ('upon', 14)]),\n",
       " ('Taylor',\n",
       "  '1849',\n",
       "  [('shall', 15),\n",
       "   ('government', 7),\n",
       "   ('country', 6),\n",
       "   ('duties', 5),\n",
       "   ('constitution', 4),\n",
       "   ('interests', 4),\n",
       "   ('congress', 4),\n",
       "   ('may', 4),\n",
       "   ('us', 4),\n",
       "   ('people', 3)]),\n",
       " ('Pierce',\n",
       "  '1853',\n",
       "  [('upon', 24),\n",
       "   ('power', 11),\n",
       "   ('government', 10),\n",
       "   ('must', 9),\n",
       "   ('may', 9),\n",
       "   ('us', 9),\n",
       "   ('shall', 9),\n",
       "   ('every', 9),\n",
       "   ('nation', 8),\n",
       "   ('great', 8)]),\n",
       " ('Buchanan',\n",
       "  '1857',\n",
       "  [('states', 22),\n",
       "   ('shall', 18),\n",
       "   ('constitution', 17),\n",
       "   ('may', 15),\n",
       "   ('government', 14),\n",
       "   ('people', 13),\n",
       "   ('great', 11),\n",
       "   ('question', 11),\n",
       "   ('union', 10),\n",
       "   ('free', 9)]),\n",
       " ('Lincoln',\n",
       "  '1861',\n",
       "  [('constitution', 24),\n",
       "   ('people', 20),\n",
       "   ('union', 20),\n",
       "   ('states', 19),\n",
       "   ('government', 18),\n",
       "   ('shall', 17),\n",
       "   ('upon', 15),\n",
       "   ('one', 14),\n",
       "   ('law', 14),\n",
       "   ('may', 13)]),\n",
       " ('Lincoln',\n",
       "  '1865',\n",
       "  [('war', 12),\n",
       "   ('god', 6),\n",
       "   ('shall', 5),\n",
       "   ('years', 4),\n",
       "   ('union', 4),\n",
       "   ('let', 4),\n",
       "   ('nation', 3),\n",
       "   ('one', 3),\n",
       "   ('would', 3),\n",
       "   ('interest', 3)]),\n",
       " ('Grant',\n",
       "  '1869',\n",
       "  [('country', 8),\n",
       "   ('every', 6),\n",
       "   ('without', 5),\n",
       "   ('best', 5),\n",
       "   ('public', 5),\n",
       "   ('laws', 5),\n",
       "   ('us', 5),\n",
       "   ('dollar', 5),\n",
       "   ('may', 5),\n",
       "   ('office', 4)]),\n",
       " ('Grant',\n",
       "  '1873',\n",
       "  [('country', 8),\n",
       "   ('people', 7),\n",
       "   ('best', 6),\n",
       "   ('made', 6),\n",
       "   ('great', 5),\n",
       "   ('office', 5),\n",
       "   ('executive', 4),\n",
       "   ('commerce', 4),\n",
       "   ('government', 4),\n",
       "   ('support', 4)]),\n",
       " ('Hayes',\n",
       "  '1877',\n",
       "  [('country', 20),\n",
       "   ('government', 18),\n",
       "   ('upon', 15),\n",
       "   ('public', 11),\n",
       "   ('states', 11),\n",
       "   ('political', 10),\n",
       "   ('great', 9),\n",
       "   ('people', 9),\n",
       "   ('party', 8),\n",
       "   ('citizens', 7)]),\n",
       " ('Garfield',\n",
       "  '1881',\n",
       "  [('government', 23),\n",
       "   ('people', 21),\n",
       "   ('constitution', 15),\n",
       "   ('states', 15),\n",
       "   ('upon', 13),\n",
       "   ('union', 11),\n",
       "   ('great', 11),\n",
       "   ('law', 10),\n",
       "   ('nation', 9),\n",
       "   ('authority', 9)]),\n",
       " ('Cleveland',\n",
       "  '1885',\n",
       "  [('people', 18),\n",
       "   ('government', 17),\n",
       "   ('public', 11),\n",
       "   ('shall', 10),\n",
       "   ('constitution', 8),\n",
       "   ('interests', 7),\n",
       "   ('citizens', 6),\n",
       "   ('every', 5),\n",
       "   ('citizen', 5),\n",
       "   ('upon', 5)]),\n",
       " ('Harrison',\n",
       "  '1889',\n",
       "  [('people', 29),\n",
       "   ('upon', 21),\n",
       "   ('states', 20),\n",
       "   ('shall', 18),\n",
       "   ('public', 17),\n",
       "   ('laws', 17),\n",
       "   ('may', 12),\n",
       "   ('great', 12),\n",
       "   ('constitution', 11),\n",
       "   ('nation', 10)]),\n",
       " ('Cleveland',\n",
       "  '1893',\n",
       "  [('people', 22),\n",
       "   ('government', 14),\n",
       "   ('us', 10),\n",
       "   ('every', 9),\n",
       "   ('public', 8),\n",
       "   ('american', 8),\n",
       "   ('service', 7),\n",
       "   ('support', 7),\n",
       "   ('national', 6),\n",
       "   ('upon', 6)]),\n",
       " ('McKinley',\n",
       "  '1897',\n",
       "  [('upon', 31),\n",
       "   ('people', 25),\n",
       "   ('must', 23),\n",
       "   ('government', 23),\n",
       "   ('congress', 18),\n",
       "   ('great', 16),\n",
       "   ('country', 14),\n",
       "   ('public', 13),\n",
       "   ('united', 12),\n",
       "   ('states', 12)]),\n",
       " ('McKinley',\n",
       "  '1901',\n",
       "  [('government', 15),\n",
       "   ('people', 12),\n",
       "   ('upon', 11),\n",
       "   ('congress', 9),\n",
       "   ('executive', 9),\n",
       "   ('united', 9),\n",
       "   ('states', 9),\n",
       "   ('us', 8),\n",
       "   ('american', 7),\n",
       "   ('war', 7)]),\n",
       " ('Roosevelt',\n",
       "  '1905',\n",
       "  [('us', 12),\n",
       "   ('people', 6),\n",
       "   ('life', 6),\n",
       "   ('must', 6),\n",
       "   ('great', 5),\n",
       "   ('nation', 5),\n",
       "   ('problems', 5),\n",
       "   ('cause', 4),\n",
       "   ('yet', 4),\n",
       "   ('ever', 4)]),\n",
       " ('Taft',\n",
       "  '1909',\n",
       "  [('government', 26),\n",
       "   ('business', 22),\n",
       "   ('must', 19),\n",
       "   ('may', 18),\n",
       "   ('upon', 16),\n",
       "   ('proper', 15),\n",
       "   ('law', 14),\n",
       "   ('congress', 14),\n",
       "   ('tariff', 13),\n",
       "   ('race', 13)]),\n",
       " ('Wilson',\n",
       "  '1913',\n",
       "  [('great', 14),\n",
       "   ('men', 11),\n",
       "   ('government', 9),\n",
       "   ('upon', 8),\n",
       "   ('life', 8),\n",
       "   ('every', 8),\n",
       "   ('justice', 8),\n",
       "   ('things', 7),\n",
       "   ('nation', 6),\n",
       "   ('shall', 6)]),\n",
       " ('Wilson',\n",
       "  '1917',\n",
       "  [('upon', 13),\n",
       "   ('shall', 9),\n",
       "   ('purpose', 8),\n",
       "   ('us', 8),\n",
       "   ('action', 7),\n",
       "   ('life', 6),\n",
       "   ('people', 6),\n",
       "   ('world', 6),\n",
       "   ('peace', 6),\n",
       "   ('stand', 6)]),\n",
       " ('Harding',\n",
       "  '1921',\n",
       "  [('world', 28),\n",
       "   ('must', 23),\n",
       "   ('america', 15),\n",
       "   ('war', 15),\n",
       "   ('new', 13),\n",
       "   ('civilization', 12),\n",
       "   ('never', 12),\n",
       "   ('government', 11),\n",
       "   ('republic', 10),\n",
       "   ('may', 10)]),\n",
       " ('Coolidge',\n",
       "  '1925',\n",
       "  [('country', 17),\n",
       "   ('must', 17),\n",
       "   ('great', 16),\n",
       "   ('people', 15),\n",
       "   ('government', 14),\n",
       "   ('world', 13),\n",
       "   ('peace', 13),\n",
       "   ('much', 12),\n",
       "   ('upon', 12),\n",
       "   ('one', 10)]),\n",
       " ('Hoover',\n",
       "  '1929',\n",
       "  [('government', 30),\n",
       "   ('upon', 17),\n",
       "   ('progress', 16),\n",
       "   ('people', 15),\n",
       "   ('world', 15),\n",
       "   ('must', 15),\n",
       "   ('peace', 15),\n",
       "   ('justice', 14),\n",
       "   ('nation', 12),\n",
       "   ('system', 11)]),\n",
       " ('Roosevelt',\n",
       "  '1933',\n",
       "  [('national', 9),\n",
       "   ('must', 9),\n",
       "   ('people', 8),\n",
       "   ('may', 8),\n",
       "   ('leadership', 7),\n",
       "   ('helped', 7),\n",
       "   ('shall', 7),\n",
       "   ('nation', 6),\n",
       "   ('us', 6),\n",
       "   ('action', 6)]),\n",
       " ('Roosevelt',\n",
       "  '1937',\n",
       "  [('government', 16),\n",
       "   ('people', 11),\n",
       "   ('nation', 9),\n",
       "   ('men', 8),\n",
       "   ('democracy', 8),\n",
       "   ('good', 8),\n",
       "   ('see', 8),\n",
       "   ('power', 7),\n",
       "   ('progress', 7),\n",
       "   ('purpose', 6)]),\n",
       " ('Roosevelt',\n",
       "  '1941',\n",
       "  [('nation', 12),\n",
       "   ('know', 10),\n",
       "   ('spirit', 9),\n",
       "   ('life', 9),\n",
       "   ('democracy', 9),\n",
       "   ('us', 8),\n",
       "   ('people', 7),\n",
       "   ('america', 7),\n",
       "   ('years', 6),\n",
       "   ('freedom', 6)]),\n",
       " ('Roosevelt',\n",
       "  '1945',\n",
       "  [('shall', 7),\n",
       "   ('peace', 6),\n",
       "   ('learned', 5),\n",
       "   ('today', 4),\n",
       "   ('men', 4),\n",
       "   ('test', 3),\n",
       "   ('way', 3),\n",
       "   ('simple', 2),\n",
       "   ('courage', 2),\n",
       "   ('democracy', 2)]),\n",
       " ('Truman',\n",
       "  '1949',\n",
       "  [('world', 23),\n",
       "   ('nations', 22),\n",
       "   ('peace', 15),\n",
       "   ('freedom', 13),\n",
       "   ('people', 12),\n",
       "   ('free', 11),\n",
       "   ('united', 10),\n",
       "   ('peoples', 9),\n",
       "   ('security', 9),\n",
       "   ('democracy', 9)]),\n",
       " ('Eisenhower',\n",
       "  '1953',\n",
       "  [('free', 21),\n",
       "   ('world', 16),\n",
       "   ('faith', 13),\n",
       "   ('peace', 12),\n",
       "   ('people', 11),\n",
       "   ('us', 11),\n",
       "   ('shall', 11),\n",
       "   ('upon', 10),\n",
       "   ('freedom', 10),\n",
       "   ('must', 10)]),\n",
       " ('Eisenhower',\n",
       "  '1957',\n",
       "  [('world', 16),\n",
       "   ('may', 15),\n",
       "   ('nations', 14),\n",
       "   ('peace', 11),\n",
       "   ('freedom', 11),\n",
       "   ('people', 10),\n",
       "   ('seek', 10),\n",
       "   ('must', 9),\n",
       "   ('justice', 6),\n",
       "   ('upon', 6)]),\n",
       " ('Kennedy',\n",
       "  '1961',\n",
       "  [('let', 16),\n",
       "   ('us', 12),\n",
       "   ('world', 8),\n",
       "   ('sides', 8),\n",
       "   ('new', 7),\n",
       "   ('pledge', 7),\n",
       "   ('citizens', 5),\n",
       "   ('power', 5),\n",
       "   ('shall', 5),\n",
       "   ('free', 5)]),\n",
       " ('Johnson',\n",
       "  '1965',\n",
       "  [('nation', 12),\n",
       "   ('us', 12),\n",
       "   ('change', 12),\n",
       "   ('must', 10),\n",
       "   ('man', 10),\n",
       "   ('people', 9),\n",
       "   ('union', 9),\n",
       "   ('world', 7),\n",
       "   ('old', 7),\n",
       "   ('every', 6)]),\n",
       " ('Nixon',\n",
       "  '1969',\n",
       "  [('us', 20),\n",
       "   ('people', 14),\n",
       "   ('world', 13),\n",
       "   ('peace', 12),\n",
       "   ('let', 11),\n",
       "   ('man', 10),\n",
       "   ('know', 10),\n",
       "   ('make', 9),\n",
       "   ('earth', 9),\n",
       "   ('new', 8)]),\n",
       " ('Nixon',\n",
       "  '1973',\n",
       "  [('us', 26),\n",
       "   ('let', 22),\n",
       "   ('america', 21),\n",
       "   ('peace', 19),\n",
       "   ('world', 18),\n",
       "   ('new', 15),\n",
       "   ('nation', 11),\n",
       "   ('responsibility', 11),\n",
       "   ('government', 10),\n",
       "   ('great', 9)]),\n",
       " ('Carter',\n",
       "  '1977',\n",
       "  [('nation', 13),\n",
       "   ('new', 9),\n",
       "   ('must', 8),\n",
       "   ('us', 8),\n",
       "   ('strength', 7),\n",
       "   ('people', 7),\n",
       "   ('together', 7),\n",
       "   ('spirit', 6),\n",
       "   ('world', 6),\n",
       "   ('dream', 5)]),\n",
       " ('Reagan',\n",
       "  '1981',\n",
       "  [('us', 25),\n",
       "   ('government', 16),\n",
       "   ('must', 10),\n",
       "   ('believe', 10),\n",
       "   ('world', 9),\n",
       "   ('people', 9),\n",
       "   ('americans', 9),\n",
       "   ('one', 8),\n",
       "   ('time', 8),\n",
       "   ('freedom', 8)]),\n",
       " ('Reagan',\n",
       "  '1985',\n",
       "  [('us', 27),\n",
       "   ('government', 18),\n",
       "   ('people', 17),\n",
       "   ('world', 16),\n",
       "   ('one', 14),\n",
       "   ('freedom', 14),\n",
       "   ('must', 12),\n",
       "   ('time', 10),\n",
       "   ('new', 9),\n",
       "   ('history', 9)]),\n",
       " ('Bush',\n",
       "  '1989',\n",
       "  [('new', 14),\n",
       "   ('us', 13),\n",
       "   ('nation', 10),\n",
       "   ('great', 10),\n",
       "   ('world', 10),\n",
       "   ('free', 9),\n",
       "   ('must', 9),\n",
       "   ('friends', 8),\n",
       "   ('things', 8),\n",
       "   ('hand', 8)]),\n",
       " ('Clinton',\n",
       "  '1993',\n",
       "  [('world', 20),\n",
       "   ('america', 19),\n",
       "   ('must', 18),\n",
       "   ('us', 13),\n",
       "   ('people', 12),\n",
       "   ('today', 10),\n",
       "   ('change', 9),\n",
       "   ('new', 9),\n",
       "   ('americans', 9),\n",
       "   ('let', 9)]),\n",
       " ('Clinton',\n",
       "  '1997',\n",
       "  [('new', 29),\n",
       "   ('us', 27),\n",
       "   ('century', 20),\n",
       "   ('america', 15),\n",
       "   ('world', 15),\n",
       "   ('nation', 13),\n",
       "   ('time', 12),\n",
       "   ('land', 11),\n",
       "   ('people', 11),\n",
       "   ('every', 11)]),\n",
       " ('Bush',\n",
       "  '2001',\n",
       "  [('nation', 11),\n",
       "   ('america', 11),\n",
       "   ('us', 11),\n",
       "   ('story', 10),\n",
       "   ('citizens', 9),\n",
       "   ('country', 9),\n",
       "   ('must', 6),\n",
       "   ('every', 6),\n",
       "   ('common', 5),\n",
       "   ('new', 5)]),\n",
       " ('Bush',\n",
       "  '2005',\n",
       "  [('freedom', 27),\n",
       "   ('america', 20),\n",
       "   ('liberty', 15),\n",
       "   ('every', 10),\n",
       "   ('nation', 10),\n",
       "   ('one', 9),\n",
       "   ('country', 8),\n",
       "   ('world', 8),\n",
       "   ('americans', 8),\n",
       "   ('history', 7)]),\n",
       " ('Obama',\n",
       "  '2009',\n",
       "  [('us', 23),\n",
       "   ('nation', 12),\n",
       "   ('new', 11),\n",
       "   ('america', 10),\n",
       "   ('every', 8),\n",
       "   ('must', 8),\n",
       "   ('people', 7),\n",
       "   ('less', 7),\n",
       "   ('world', 7),\n",
       "   ('let', 7)]),\n",
       " ('Obama',\n",
       "  '2013',\n",
       "  [('us', 21),\n",
       "   ('must', 17),\n",
       "   ('people', 11),\n",
       "   ('time', 9),\n",
       "   ('america', 8),\n",
       "   ('together', 7),\n",
       "   ('country', 7),\n",
       "   ('make', 7),\n",
       "   ('every', 7),\n",
       "   ('citizens', 6)]),\n",
       " ('Trump',\n",
       "  '2017',\n",
       "  [('america', 20),\n",
       "   ('american', 11),\n",
       "   ('people', 10),\n",
       "   ('country', 9),\n",
       "   ('one', 8),\n",
       "   ('nation', 8),\n",
       "   ('every', 7),\n",
       "   ('world', 6),\n",
       "   ('great', 6),\n",
       "   ('back', 6)]),\n",
       " ('Biden',\n",
       "  '2021',\n",
       "  [('us', 24),\n",
       "   ('america', 20),\n",
       "   ('one', 15),\n",
       "   ('nation', 14),\n",
       "   ('democracy', 11),\n",
       "   ('americans', 10),\n",
       "   ('today', 10),\n",
       "   ('people', 10),\n",
       "   ('much', 10),\n",
       "   ('know', 9)])]"
      ]
     },
     "execution_count": 154,
     "metadata": {},
     "output_type": "execute_result"
    }
   ],
   "source": [
    "[(text['name'], text['year'], nltk.FreqDist(doc).most_common(10)) for text, doc in zip(texts, tokenized_docs)]"
   ]
  },
  {
   "cell_type": "markdown",
   "metadata": {},
   "source": [
    "### Úloha 2"
   ]
  },
  {
   "cell_type": "code",
   "execution_count": 155,
   "metadata": {},
   "outputs": [
    {
     "ename": "NameError",
     "evalue": "name 'tfidf_corpus' is not defined",
     "output_type": "error",
     "traceback": [
      "\u001b[1;31m---------------------------------------------------------------------------\u001b[0m",
      "\u001b[1;31mNameError\u001b[0m                                 Traceback (most recent call last)",
      "Input \u001b[1;32mIn [155]\u001b[0m, in \u001b[0;36m<module>\u001b[1;34m\u001b[0m\n\u001b[1;32m----> 1\u001b[0m sorted_docs \u001b[38;5;241m=\u001b[39m [\u001b[38;5;28msorted\u001b[39m(doc, key\u001b[38;5;241m=\u001b[39m\u001b[38;5;28;01mlambda\u001b[39;00m x: x[\u001b[38;5;241m1\u001b[39m], reverse\u001b[38;5;241m=\u001b[39m\u001b[38;5;28;01mTrue\u001b[39;00m)[:\u001b[38;5;241m10\u001b[39m] \u001b[38;5;28;01mfor\u001b[39;00m doc \u001b[38;5;129;01min\u001b[39;00m \u001b[43mtfidf_corpus\u001b[49m]\n",
      "\u001b[1;31mNameError\u001b[0m: name 'tfidf_corpus' is not defined"
     ]
    }
   ],
   "source": [
    "sorted_docs = [sorted(doc, key=lambda x: x[1], reverse=True)[:10] for doc in tfidf_corpus]"
   ]
  },
  {
   "cell_type": "code",
   "execution_count": null,
   "metadata": {},
   "outputs": [],
   "source": [
    "[(text['name'], text['year'], [(dictionary[token[0]], token[1]) for token in doc]) for text, doc in zip(texts, sorted_docs)]"
   ]
  },
  {
   "cell_type": "markdown",
   "metadata": {},
   "source": [
    "### Úloha 3"
   ]
  },
  {
   "cell_type": "code",
   "execution_count": null,
   "metadata": {},
   "outputs": [],
   "source": [
    "sims = [(i, sorted(enumerate(index[doc]), key=lambda x: x[1], reverse=True)[1]) for i, doc in enumerate(tfidf_corpus)]\n",
    "sims"
   ]
  },
  {
   "cell_type": "code",
   "execution_count": null,
   "metadata": {},
   "outputs": [],
   "source": [
    "list(map(lambda x: (texts[x[0]]['name'], (texts[x[1][0]]['name'], x[1][1])), sims))"
   ]
  },
  {
   "cell_type": "markdown",
   "metadata": {},
   "source": [
    "Riešenie by sa mohlo ešte vylepšiť - ignorovali sme len podobnosť daného príhovoru so samým sebou, ale mohli by sme odfiltrovať iný príhovor od rovnakého prezidenta (preto teraz máme napr. *Clinton - Clinton*). Ďalšia možnosť je pozerať sa pre daného prezidenta vždy len do minulosti, ak by nás zaujímalo, či sa niekým inšpirovali (*Kennedy sa nemohol inšpirovať Reaganom*)."
   ]
  },
  {
   "cell_type": "markdown",
   "metadata": {},
   "source": [
    "### Úloha 4"
   ]
  },
  {
   "cell_type": "code",
   "execution_count": null,
   "metadata": {},
   "outputs": [],
   "source": [
    "%matplotlib inline\n",
    "import matplotlib.pyplot as plt\n",
    "plt.rcParams[\"figure.figsize\"] = (20,3)"
   ]
  },
  {
   "cell_type": "code",
   "execution_count": null,
   "metadata": {},
   "outputs": [],
   "source": [
    "years = [text['year'] for text in texts]\n",
    "print(years)"
   ]
  },
  {
   "cell_type": "code",
   "execution_count": null,
   "metadata": {
    "scrolled": true
   },
   "outputs": [],
   "source": [
    "def plot_freq(docs, targets):\n",
    "    cdf = nltk.ConditionalFreqDist(\n",
    "        (target, year) \n",
    "        for year, doc in docs\n",
    "        for w in doc \n",
    "        for target in targets \n",
    "        if w.startswith(target))\n",
    "    cdf.plot()"
   ]
  },
  {
   "cell_type": "code",
   "execution_count": null,
   "metadata": {},
   "outputs": [],
   "source": [
    "plot_freq(zip(years, tokenized_docs), ['america', 'citizen'])"
   ]
  },
  {
   "cell_type": "code",
   "execution_count": null,
   "metadata": {},
   "outputs": [],
   "source": [
    "plot_freq(zip(years, tokenized_docs), ['liberty', 'freedom'])"
   ]
  },
  {
   "cell_type": "code",
   "execution_count": null,
   "metadata": {},
   "outputs": [],
   "source": [
    "plot_freq(zip(years, tokenized_docs), ['war'])"
   ]
  },
  {
   "cell_type": "markdown",
   "metadata": {},
   "source": [
    "### Úloha 5"
   ]
  },
  {
   "cell_type": "code",
   "execution_count": null,
   "metadata": {},
   "outputs": [],
   "source": [
    "from sklearn.pipeline import Pipeline\n",
    "from sklearn.base import TransformerMixin"
   ]
  },
  {
   "cell_type": "code",
   "execution_count": null,
   "metadata": {},
   "outputs": [],
   "source": [
    "class TextPreprocessor(TransformerMixin):\n",
    "    def __init__(self, tokenizer, stopwords):\n",
    "        self.tokenizer = tokenizer\n",
    "        self.stopwords = stopwords\n",
    "    \n",
    "    def preprocess(self, doc):\n",
    "        tokenized = self.tokenizer(doc)\n",
    "        return [token.lower() for token in tokenized if token.isalpha() and token.lower() not in self.stopwords]\n",
    "    \n",
    "    def fit(self, docs, y=None, **fit_params):\n",
    "        return self\n",
    "    \n",
    "    def transform(self, docs, **transform_params):\n",
    "        return [self.preprocess(doc) for doc in docs]"
   ]
  },
  {
   "cell_type": "code",
   "execution_count": null,
   "metadata": {},
   "outputs": [],
   "source": [
    "from collections import defaultdict\n",
    "\n",
    "class CorpusTransformer(TransformerMixin):\n",
    "    def __init__(self, min_freq=1):\n",
    "        self.min_freq = min_freq\n",
    "        self.dictionary = None\n",
    "    \n",
    "    def filter_tokens(self, docs):\n",
    "        frequency = defaultdict(int)\n",
    "        for doc in docs:\n",
    "            for token in doc:\n",
    "                frequency[token] += 1\n",
    "        \n",
    "        return [[token for token in doc if frequency[token] > 1] for doc in docs]\n",
    "        \n",
    "    def fit(self, docs, y=None, **fit_params):\n",
    "        self.dictionary = corpora.Dictionary(self.filter_tokens(docs))\n",
    "        return self\n",
    "    \n",
    "    def transform(self, docs, **transform_params):\n",
    "        return [self.dictionary.doc2bow(doc) for doc in docs]"
   ]
  },
  {
   "cell_type": "code",
   "execution_count": null,
   "metadata": {},
   "outputs": [],
   "source": [
    "class TfIdfTransformer(TransformerMixin):\n",
    "    def __init__(self):\n",
    "        self.model = None\n",
    "        \n",
    "    def fit(self, docs, y=None, **fit_params):\n",
    "        self.model = models.TfidfModel(docs)\n",
    "        return self\n",
    "    \n",
    "    def transform(self, docs, **transform_params):\n",
    "        return self.model[docs]"
   ]
  },
  {
   "cell_type": "code",
   "execution_count": null,
   "metadata": {},
   "outputs": [],
   "source": [
    "ppl = Pipeline([\n",
    "    ('preprocess', TextPreprocessor(nltk.word_tokenize, nltk.corpus.stopwords.words('english'))),\n",
    "    ('to_corpus', CorpusTransformer()),\n",
    "    ('tfidf', TfIdfTransformer())\n",
    "])"
   ]
  },
  {
   "cell_type": "code",
   "execution_count": null,
   "metadata": {},
   "outputs": [],
   "source": [
    "transformed_corpus = ppl.fit_transform([text['text'] for text in texts])"
   ]
  },
  {
   "cell_type": "code",
   "execution_count": null,
   "metadata": {},
   "outputs": [],
   "source": [
    "transformed_corpus[0][:10]"
   ]
  },
  {
   "cell_type": "code",
   "execution_count": null,
   "metadata": {},
   "outputs": [],
   "source": []
  }
 ],
 "metadata": {
  "kernelspec": {
   "display_name": "Python 3 (ipykernel)",
   "language": "python",
   "name": "python3"
  },
  "language_info": {
   "codemirror_mode": {
    "name": "ipython",
    "version": 3
   },
   "file_extension": ".py",
   "mimetype": "text/x-python",
   "name": "python",
   "nbconvert_exporter": "python",
   "pygments_lexer": "ipython3",
   "version": "3.10.1"
  }
 },
 "nbformat": 4,
 "nbformat_minor": 2
}
