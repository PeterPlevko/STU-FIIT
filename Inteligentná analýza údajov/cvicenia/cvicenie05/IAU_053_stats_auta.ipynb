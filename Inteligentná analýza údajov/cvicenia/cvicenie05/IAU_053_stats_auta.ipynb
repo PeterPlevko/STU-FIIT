{
 "cells": [
  {
   "cell_type": "markdown",
   "metadata": {},
   "source": [
    "# Štatistické testovanie hypotéz\n",
    "\n",
    "URL https://github.com/FIIT-IAU/\n",
    "\n",
    "**Chceme overiť, či má počet valcov motora vplyv na spotrebu.**"
   ]
  },
  {
   "cell_type": "code",
   "execution_count": 70,
   "metadata": {},
   "outputs": [],
   "source": [
    "import pandas as pd\n",
    "import matplotlib\n",
    "import seaborn as sns\n",
    "import statsmodels.api as sm\n",
    "import statsmodels.stats.api as sms\n",
    "import scipy.stats as stats\n",
    "from sklearn import preprocessing"
   ]
  },
  {
   "cell_type": "code",
   "execution_count": 71,
   "metadata": {},
   "outputs": [
    {
     "data": {
      "text/html": [
       "<div>\n",
       "<style scoped>\n",
       "    .dataframe tbody tr th:only-of-type {\n",
       "        vertical-align: middle;\n",
       "    }\n",
       "\n",
       "    .dataframe tbody tr th {\n",
       "        vertical-align: top;\n",
       "    }\n",
       "\n",
       "    .dataframe thead th {\n",
       "        text-align: right;\n",
       "    }\n",
       "</style>\n",
       "<table border=\"1\" class=\"dataframe\">\n",
       "  <thead>\n",
       "    <tr style=\"text-align: right;\">\n",
       "      <th></th>\n",
       "      <th>mpg</th>\n",
       "      <th>cylinders</th>\n",
       "      <th>displacement</th>\n",
       "      <th>horsepower</th>\n",
       "      <th>weight</th>\n",
       "      <th>acceleration</th>\n",
       "      <th>model_year</th>\n",
       "      <th>origin</th>\n",
       "      <th>name</th>\n",
       "    </tr>\n",
       "  </thead>\n",
       "  <tbody>\n",
       "    <tr>\n",
       "      <th>0</th>\n",
       "      <td>18.0</td>\n",
       "      <td>8</td>\n",
       "      <td>307.0</td>\n",
       "      <td>130.0</td>\n",
       "      <td>3504.0</td>\n",
       "      <td>12.0</td>\n",
       "      <td>70</td>\n",
       "      <td>1</td>\n",
       "      <td>chevrolet chevelle malibu</td>\n",
       "    </tr>\n",
       "    <tr>\n",
       "      <th>1</th>\n",
       "      <td>15.0</td>\n",
       "      <td>8</td>\n",
       "      <td>350.0</td>\n",
       "      <td>165.0</td>\n",
       "      <td>3693.0</td>\n",
       "      <td>11.5</td>\n",
       "      <td>70</td>\n",
       "      <td>1</td>\n",
       "      <td>buick skylark 320</td>\n",
       "    </tr>\n",
       "    <tr>\n",
       "      <th>2</th>\n",
       "      <td>18.0</td>\n",
       "      <td>8</td>\n",
       "      <td>318.0</td>\n",
       "      <td>150.0</td>\n",
       "      <td>3436.0</td>\n",
       "      <td>11.0</td>\n",
       "      <td>70</td>\n",
       "      <td>1</td>\n",
       "      <td>plymouth satellite</td>\n",
       "    </tr>\n",
       "    <tr>\n",
       "      <th>3</th>\n",
       "      <td>16.0</td>\n",
       "      <td>8</td>\n",
       "      <td>304.0</td>\n",
       "      <td>150.0</td>\n",
       "      <td>3433.0</td>\n",
       "      <td>12.0</td>\n",
       "      <td>70</td>\n",
       "      <td>1</td>\n",
       "      <td>amc rebel sst</td>\n",
       "    </tr>\n",
       "    <tr>\n",
       "      <th>4</th>\n",
       "      <td>17.0</td>\n",
       "      <td>8</td>\n",
       "      <td>302.0</td>\n",
       "      <td>140.0</td>\n",
       "      <td>3449.0</td>\n",
       "      <td>10.5</td>\n",
       "      <td>70</td>\n",
       "      <td>1</td>\n",
       "      <td>ford torino</td>\n",
       "    </tr>\n",
       "  </tbody>\n",
       "</table>\n",
       "</div>"
      ],
      "text/plain": [
       "    mpg  cylinders  displacement  horsepower  weight  acceleration  \\\n",
       "0  18.0          8         307.0       130.0  3504.0          12.0   \n",
       "1  15.0          8         350.0       165.0  3693.0          11.5   \n",
       "2  18.0          8         318.0       150.0  3436.0          11.0   \n",
       "3  16.0          8         304.0       150.0  3433.0          12.0   \n",
       "4  17.0          8         302.0       140.0  3449.0          10.5   \n",
       "\n",
       "   model_year  origin                       name  \n",
       "0          70       1  chevrolet chevelle malibu  \n",
       "1          70       1          buick skylark 320  \n",
       "2          70       1         plymouth satellite  \n",
       "3          70       1              amc rebel sst  \n",
       "4          70       1                ford torino  "
      ]
     },
     "execution_count": 71,
     "metadata": {},
     "output_type": "execute_result"
    }
   ],
   "source": [
    "cars = pd.read_csv('data/auto-mpg.data', \n",
    "                   delim_whitespace=True, \n",
    "                   names = ['mpg', 'cylinders', 'displacement','horsepower',\n",
    "                            'weight', 'acceleration', 'model_year', 'origin', 'name'],\n",
    "                   na_values='?')\n",
    "cars.head()"
   ]
  },
  {
   "cell_type": "markdown",
   "metadata": {},
   "source": [
    "## DÚ"
   ]
  },
  {
   "cell_type": "markdown",
   "metadata": {},
   "source": [
    "**a. Analogicky k príkladu vyššie overte, či je rozdiel medzi spotrebou 4 a 6-valcových motorov signifikantný.**\n",
    "\n",
    "b. Analogicky k príkladu vyššie overte, či je rozdiel medzi spotrebou 4 a 5-valcových motorov signifikantný.\n",
    "\n",
    "c. Ešte lepší postup je použiť test, ktorý umožňuje otestovať viacero skupín naraz. Zovšeobecnením t-testu pre viacero skupín je **ANOVA (Analysis of variance)**."
   ]
  },
  {
   "cell_type": "markdown",
   "metadata": {},
   "source": [
    "Invisible note\n",
    "<!--\n",
    "Treba si dať pozor pri opakovanom párovom testovaní. S každým ďalším testom rastie pravdepodobnosť 1. rádu. Treba v takom prípade použiť korekciu pre opätovné testovanie, napr. *Bonferroniho korekciu*, kedy sa $p$-hodnota porovnáva voči hodnote $\\alpha / m$, kde $\\alpha$ je prípustná hodnota pravdepodobnosti chyby 1. rádu a $m$ je počet testovaných hypotéz (párových testov).\n",
    "//-->"
   ]
  },
  {
   "cell_type": "code",
   "execution_count": 72,
   "metadata": {},
   "outputs": [
    {
     "data": {
      "text/plain": [
       "MannwhitneyuResult(statistic=563.0, pvalue=7.6391524456552e-34)"
      ]
     },
     "execution_count": 72,
     "metadata": {},
     "output_type": "execute_result"
    },
    {
     "data": {
      "image/png": "[encoded data removed]",
      "text/plain": [
       "<Figure size 432x288 with 1 Axes>"
      ]
     },
     "metadata": {
      "needs_background": "light"
     },
     "output_type": "display_data"
    }
   ],
   "source": [
    "# a\n",
    "# Keďže  𝑝<0,001 , pravdepodobnosť chyby 1. rádu (že  H0  je pravdivá a my ju zamietame) je menej ako 1 promile. \n",
    "# Našu nulovú hypotézu H0 teda zamietame v prospech alternatívnej hypotézy HA. Rozdiel v spotrebe medzi 6 a 4-valcovými motormi je štatisticky signifikantný.\n",
    "\n",
    "mpg6 = cars.loc[cars.cylinders == 6, 'mpg']\n",
    "mpg6_out = identify_outliers(mpg6)\n",
    "mpg6 = mpg6.drop(mpg6_out.index)\n",
    "\n",
    "mpg4 = cars.loc[cars.cylinders == 4, 'mpg']\n",
    "mpg4_out = identify_outliers(mpg4)\n",
    "mpg4 = mpg4.drop(mpg4_out.index)\n",
    "\n",
    "sns.barplot(x='cylinders', y='mpg', data=cars[(cars.cylinders == 6) | (cars.cylinders == 4)], \n",
    "            capsize=0.1, errwidth=2, palette=sns.color_palette(\"Blues\"))\n",
    "stats.mannwhitneyu(mpg6, mpg4)"
   ]
  },
  {
   "cell_type": "code",
   "execution_count": 73,
   "metadata": {},
   "outputs": [
    {
     "data": {
      "text/plain": [
       "MannwhitneyuResult(statistic=246.0, pvalue=0.571278103562181)"
      ]
     },
     "execution_count": 73,
     "metadata": {},
     "output_type": "execute_result"
    },
    {
     "data": {
      "image/png": "[encoded data removed]",
      "text/plain": [
       "<Figure size 432x288 with 1 Axes>"
      ]
     },
     "metadata": {
      "needs_background": "light"
     },
     "output_type": "display_data"
    }
   ],
   "source": [
    "# b\n",
    "# Keďže  𝑝>0,001 , pravdepodobnosť chyby 1. rádu (že  H0  je pravdivá a my ju zamietame) je viac ako 1 promile. \n",
    "# Našu nulovú hypotézu H0 teda nezamietame. Rozdiel v spotrebe medzi 5 a 4-valcovými motormi nie je štatisticky signifikantný.\n",
    "\n",
    "mpg5 = cars.loc[cars.cylinders == 5, 'mpg']\n",
    "mpg5_out = identify_outliers(mpg5)\n",
    "mpg5 = mpg5.drop(mpg5_out.index)\n",
    "\n",
    "mpg4 = cars.loc[cars.cylinders == 4, 'mpg']\n",
    "mpg4_out = identify_outliers(mpg4)\n",
    "mpg4 = mpg4.drop(mpg4_out.index)\n",
    "\n",
    "sns.barplot(x='cylinders', y='mpg', data=cars[(cars.cylinders == 5) | (cars.cylinders == 4)], \n",
    "            capsize=0.1, errwidth=2, palette=sns.color_palette(\"Blues\"))\n",
    "stats.mannwhitneyu(mpg5, mpg4)"
   ]
  },
  {
   "cell_type": "code",
   "execution_count": 74,
   "metadata": {},
   "outputs": [
    {
     "name": "stdout",
     "output_type": "stream",
     "text": [
      "Statistics=204.738, p=0.000\n",
      "Different distributions (reject H0)\n"
     ]
    }
   ],
   "source": [
    "# c\n",
    "# \n",
    "from scipy.stats import f_oneway\n",
    "\n",
    "alpha = 0.05\n",
    "mpg3 = cars.loc[cars.cylinders == 3, 'mpg']\n",
    "mpg3_out = identify_outliers(mpg3)\n",
    "mpg3 = mpg3.drop(mpg3_out.index)\n",
    "\n",
    "mpg4 = cars.loc[cars.cylinders == 4, 'mpg']\n",
    "mpg4_out = identify_outliers(mpg4)\n",
    "mpg4 = mpg4.drop(mpg4_out.index)\n",
    "\n",
    "mpg5 = cars.loc[cars.cylinders == 5, 'mpg']\n",
    "mpg5_out = identify_outliers(mpg5)\n",
    "mpg5 = mpg5.drop(mpg5_out.index)\n",
    "\n",
    "mpg6 = cars.loc[cars.cylinders == 6, 'mpg']\n",
    "mpg6_out = identify_outliers(mpg6)\n",
    "mpg6 = mpg6.drop(mpg6_out.index)\n",
    "\n",
    "mpg8 = cars.loc[cars.cylinders == 8, 'mpg']\n",
    "mpg8_out = identify_outliers(mpg8)\n",
    "mpg8 = mpg8.drop(mpg8_out.index)\n",
    "\n",
    "# compare samples\n",
    "stat, p = f_oneway(mpg3, mpg4, mpg5, mpg6, mpg8)\n",
    "print('Statistics=%.3f, p=%.3f' % (stat, p))\n",
    "\n",
    "# interpret\n",
    "if p > alpha:\n",
    "    print('Same distributions (fail to reject H0)')\n",
    "else:\n",
    "    print('Different distributions (reject H0)')"
   ]
  },
  {
   "cell_type": "code",
   "execution_count": null,
   "metadata": {},
   "outputs": [],
   "source": []
  },
  {
   "cell_type": "code",
   "execution_count": null,
   "metadata": {},
   "outputs": [],
   "source": []
  },
  {
   "cell_type": "code",
   "execution_count": null,
   "metadata": {},
   "outputs": [],
   "source": []
  },
  {
   "cell_type": "code",
   "execution_count": null,
   "metadata": {},
   "outputs": [],
   "source": []
  },
  {
   "cell_type": "code",
   "execution_count": null,
   "metadata": {},
   "outputs": [],
   "source": []
  },
  {
   "cell_type": "code",
   "execution_count": null,
   "metadata": {},
   "outputs": [],
   "source": []
  }
 ],
 "metadata": {
  "kernelspec": {
   "display_name": "Python 3 (ipykernel)",
   "language": "python",
   "name": "python3"
  },
  "language_info": {
   "codemirror_mode": {
    "name": "ipython",
    "version": 3
   },
   "file_extension": ".py",
   "mimetype": "text/x-python",
   "name": "python",
   "nbconvert_exporter": "python",
   "pygments_lexer": "ipython3",
   "version": "3.10.1"
  }
 },
 "nbformat": 4,
 "nbformat_minor": 2
}
