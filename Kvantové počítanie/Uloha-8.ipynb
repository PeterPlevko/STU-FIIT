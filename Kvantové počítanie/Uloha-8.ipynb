{
 "cells": [
  {
   "cell_type": "markdown",
   "metadata": {},
   "source": [
    "# BB84 Simplified QKD protocol "
   ]
  },
  {
   "cell_type": "markdown",
   "metadata": {},
   "source": [
    "For import we will just need the standard *Qiskit* package with some visualization possibilities and some (classical) package for random numbers generation."
   ]
  },
  {
   "cell_type": "code",
   "execution_count": 96,
   "metadata": {},
   "outputs": [],
   "source": [
    "import qiskit\n",
    "from qiskit.visualization import plot_histogram\n",
    "import random"
   ]
  },
  {
   "cell_type": "markdown",
   "metadata": {},
   "source": [
    "Set the number of runs: in generating the key, we will disregard roughly half of the generated outcomes, so for example if you want a key of length $\\sim 500$ bits, use $\\sim 1000$ runs.\n",
    "\n",
    "We also pick the simulator and prepare registers for storing outcomes: <code>outA</code> for Alice and <code>outB</code> for Bob (we keep them formally separate in order to show that they are spatially separated)."
   ]
  },
  {
   "cell_type": "markdown",
   "metadata": {},
   "source": [
    "*Note: Naturally, the program would be simpler if we would just use joint register for both Alice and Bob, but for instructive purposes we leave them separate. Suppose Alice is here on Earth, while Bob is in a galaxy far, far away. They have no form of quick communication. They can do so only at a later point.*"
   ]
  },
  {
   "cell_type": "code",
   "execution_count": 97,
   "metadata": {},
   "outputs": [],
   "source": [
    "RUNS = 1024\n",
    "simulator = qiskit.Aer.get_backend('qasm_simulator')\n",
    "\n",
    "outA = []\n",
    "outB = []"
   ]
  },
  {
   "cell_type": "markdown",
   "metadata": {},
   "source": [
    "The algorithm is now following.\n",
    "\n",
    "For each run do the following:\n",
    "1. Alice chooses randomly the sent bit $x=0$ or $x=1$ and prepares initial state either $|0\\rangle$ or $|1\\rangle$.\n",
    "2. Alice chooses randomly whether to leave the bit intact ($a=0$) or whether to change it by Hadamard transformation ($a=1$).\n",
    "3. Based on her choices she prepared one of the states $\\{|0\\rangle,|1\\rangle,|+\\rangle,|-\\rangle\\}$, which she sends to Bob (over large distace to Galaxy far far away...).\n",
    "4. Bob receives the sent state and chooses randomly whether to leave it as is ($b=0$) or whether to apply Hadamard transformation on it ($b=1$) without being aware of Alice's choice.\n",
    "5. Finally Bob performs a measurement and obtains bit $y$."
   ]
  },
  {
   "cell_type": "markdown",
   "metadata": {},
   "source": [
    "### Programming task 1:"
   ]
  },
  {
   "cell_type": "code",
   "execution_count": 41,
   "metadata": {},
   "outputs": [],
   "source": [
    "for i in range(RUNS):\n",
    "    # In each run we create separate circuit corresponding to choices a and b of Alice and Bob\n",
    "    circuit = qiskit.QuantumCircuit(1, 1)\n",
    "    \n",
    "    \"\"\"\n",
    "    Write a code below that determines what Alice does with the circuit,\n",
    "    following steps 1-3. Store the choices of Alice in outA, where each\n",
    "    element of the array will be a pair of values (a,x) in corresponding\n",
    "    step.\n",
    "    \"\"\"\n",
    "    initial_state = [1, 0]\n",
    "    x = random.randint(0, 1)\n",
    "    if(x):\n",
    "        initial_state = [0, 1]\n",
    "        \n",
    "    circuit.initialize(initial_state ,0)\n",
    "    \n",
    "    \n",
    "    a = random.randint(0, 1)\n",
    "    if(a):\n",
    "        circuit.h(0)\n",
    "    \n",
    "    outA.append((a, x))\n",
    "    # Prepared state is sent to Bob\n",
    "    # Barrier is just a visual aid to show Alice's and Bob's separation\n",
    "    circuit.barrier()\n",
    "    \n",
    "    \"\"\"\n",
    "    Write a code below that determines what Bob does with the circuit,\n",
    "    following steps 4 and 5. Store the choices of Bob in outB, where each\n",
    "    element of the array will be a pair of values (b,y) in corresponding\n",
    "    step. After defining the circuit let it run only once, i.e. in execute\n",
    "    function use shots=1.\n",
    "    \"\"\"\n",
    "    b = random.randint(0, 1)\n",
    "    if(b):\n",
    "        circuit.h(0)\n",
    "        \n",
    "    circuit.measure(0, 0)\n",
    "    job = qiskit.execute(circuit, simulator, shots=1)\n",
    "    counts = job.result().get_counts()\n",
    "    y = int(next(iter(counts)))\n",
    "    \n",
    "    outB.append((b, y))"
   ]
  },
  {
   "cell_type": "markdown",
   "metadata": {},
   "source": [
    "Now Alice and Bob by an authenticated channel compare only their choices $a$ and $b$ in respective runs and based on this information keep only those bits $x$ and $y$ for which $a=b$."
   ]
  },
  {
   "cell_type": "code",
   "execution_count": 42,
   "metadata": {},
   "outputs": [],
   "source": [
    "# Publicly shared information of ALice and Bob\n",
    "publicA = [x[0] for x in outA]\n",
    "publicB = [y[0] for y in outB]\n",
    "\n",
    "# Locally stored keys obtained from public information\n",
    "keyA = []\n",
    "keyB = []\n",
    "\n",
    "for i in range(RUNS):\n",
    "    if publicA[i] == publicB[i]:\n",
    "        keyA += [outA[i][1]]\n",
    "        keyB += [outB[i][1]]"
   ]
  },
  {
   "cell_type": "markdown",
   "metadata": {},
   "source": [
    "Alice and Bob have their separate keys <code>keyA</code> and <code>keyB</code>. Let us check whether these are the same:"
   ]
  },
  {
   "cell_type": "code",
   "execution_count": 43,
   "metadata": {},
   "outputs": [
    {
     "data": {
      "text/plain": [
       "True"
      ]
     },
     "execution_count": 43,
     "metadata": {},
     "output_type": "execute_result"
    }
   ],
   "source": [
    "keyA == keyB"
   ]
  },
  {
   "cell_type": "markdown",
   "metadata": {},
   "source": [
    "The length of the key is"
   ]
  },
  {
   "cell_type": "code",
   "execution_count": 44,
   "metadata": {
    "scrolled": true
   },
   "outputs": [
    {
     "name": "stdout",
     "output_type": "stream",
     "text": [
      "516\n"
     ]
    }
   ],
   "source": [
    "print(len(keyA))"
   ]
  },
  {
   "cell_type": "markdown",
   "metadata": {},
   "source": [
    "Let us have a look at the statistic a bit."
   ]
  },
  {
   "cell_type": "code",
   "execution_count": 45,
   "metadata": {},
   "outputs": [],
   "source": [
    "counts = {}\n",
    "out = [(outA[i][0], outB[i][0], outA[i][1], outB[i][1]) for i in range(RUNS)]\n",
    "for x in out:\n",
    "    counts[x] = counts.get(x, 0) + 1"
   ]
  },
  {
   "cell_type": "code",
   "execution_count": 46,
   "metadata": {
    "scrolled": false
   },
   "outputs": [
    {
     "data": {
      "image/png": "[encoded data removed]",
      "text/plain": [
       "<Figure size 700x500 with 1 Axes>"
      ]
     },
     "execution_count": 46,
     "metadata": {},
     "output_type": "execute_result"
    }
   ],
   "source": [
    "plot_histogram(counts)"
   ]
  },
  {
   "cell_type": "markdown",
   "metadata": {},
   "source": [
    "If we look at the cases where Alice's and Bob's bases coincide:"
   ]
  },
  {
   "cell_type": "code",
   "execution_count": 47,
   "metadata": {},
   "outputs": [
    {
     "name": "stdout",
     "output_type": "stream",
     "text": [
      "{(0, 0): 259, (0, 1): 0, (1, 0): 0, (1, 1): 257}\n"
     ]
    }
   ],
   "source": [
    "eq_out = {(0, 0): 0, (0, 1): 0, (1, 0): 0, (1, 1): 0}\n",
    "for x in counts:\n",
    "    if x[0] == x[1]:\n",
    "        eq_out[x[2:]] += counts[x]\n",
    "print(eq_out)"
   ]
  },
  {
   "cell_type": "code",
   "execution_count": 48,
   "metadata": {},
   "outputs": [
    {
     "data": {
      "image/png": "[encoded data removed]",
      "text/plain": [
       "<Figure size 700x500 with 1 Axes>"
      ]
     },
     "execution_count": 48,
     "metadata": {},
     "output_type": "execute_result"
    }
   ],
   "source": [
    "plot_histogram(eq_out)"
   ]
  },
  {
   "cell_type": "markdown",
   "metadata": {},
   "source": [
    "### *Question:*"
   ]
  },
  {
   "cell_type": "markdown",
   "metadata": {},
   "source": [
    "Based on previous results decide whether Alice and Bob are in possession of a key that is:\n",
    "- random\n",
    "- shared between Alice and Bob\n",
    "- known only to them"
   ]
  },
  {
   "cell_type": "markdown",
   "metadata": {},
   "source": [
    "## What about Eve?"
   ]
  },
  {
   "cell_type": "markdown",
   "metadata": {},
   "source": [
    "If there is an eavesdropper Eve, what she can do is to do the same thing that Bob would do - choose a basis using a bit $e$ and measure. Whatever she measures is also her best guess on what state Alice sent, so she sends it to Bob."
   ]
  },
  {
   "cell_type": "code",
   "execution_count": 98,
   "metadata": {},
   "outputs": [],
   "source": [
    "simulator = qiskit.Aer.get_backend('qasm_simulator')\n",
    "\n",
    "outA = []\n",
    "outB = []\n",
    "outE = []"
   ]
  },
  {
   "cell_type": "markdown",
   "metadata": {},
   "source": [
    "###  Programming task 2:"
   ]
  },
  {
   "cell_type": "code",
   "execution_count": 99,
   "metadata": {},
   "outputs": [],
   "source": [
    "for i in range(RUNS):\n",
    "    # In each run we create separate circuit corresponding to choices a and b of Alice and Bob\n",
    "    # Now we have to classical registers, one for Bob's measurement and the second one for Eve's\n",
    "    circuit = qiskit.QuantumCircuit(1,2)\n",
    "    \n",
    "    \"\"\"\n",
    "    Copy below the actions of Alice from program above.\n",
    "    \"\"\"\n",
    "    initial_state = [1, 0]\n",
    "    x = random.randint(0, 1)\n",
    "    if(x):\n",
    "        initial_state = [0, 1]\n",
    "        \n",
    "    circuit.initialize(initial_state ,0)\n",
    "    \n",
    "    \n",
    "    a = random.randint(0, 1)\n",
    "    if(a):\n",
    "        circuit.h(0)\n",
    "    \n",
    "    outA.append((a, x))\n",
    "    \n",
    "    \n",
    "    # Prepared state is sent to Bob but first intercepted by Eve\n",
    "    # Barrier is just a visual aid to show Alice's and Bob's separation\n",
    "    circuit.barrier()\n",
    "    \n",
    "    \"\"\"\n",
    "    Write a code below that determines what Eve does with the circuit:\n",
    "    choosing a basis in which to measure and based on her measurement\n",
    "    decide the state to send forward. Store the choices of Eve in outE,\n",
    "    where each element of the array will be a pair of values (e,z) of\n",
    "    Eves basis choice e and measurement outcome z, in corresponding\n",
    "    step.\n",
    "    \n",
    "    Note 1: Remember that after Eve measures 0 the state is in |0> and\n",
    "    if she measures 1 the state is in |1> afterwards.\n",
    "    \n",
    "    Note 2: Since the measurement outcome cannot be determined at this\n",
    "    point, the execution of storing the data (e,z) needs to be done\n",
    "    not here, but at the end of the program after the execution command,\n",
    "    as is written below.\n",
    "    \"\"\"\n",
    "    \n",
    "    e = random.randint(0, 1)\n",
    "    if (e):\n",
    "        circuit.h(0)\n",
    "\n",
    "    circuit.measure(0, 1)\n",
    "    \n",
    "    \n",
    "    # The state is now sent to Bob\n",
    "    circuit.barrier()\n",
    "    \n",
    "    \"\"\"\n",
    "    Copy below the actions of Bob from program above.\n",
    "    \"\"\"\n",
    "    b = random.randint(0, 1)\n",
    "    if(b):\n",
    "        circuit.h(0)\n",
    "        \n",
    "    circuit.measure(0, 0)\n",
    "    job = qiskit.execute(circuit, simulator, shots=1)\n",
    "    counts = job.result().get_counts()\n",
    "    y = int(next(iter(counts))[0])\n",
    "    \n",
    "    outB.append((b, y))\n",
    "    \n",
    "    # Eve stores her choice and outcome z\n",
    "    z = int(next(iter(counts))[1])\n",
    "    outE += [(e, z)]\n",
    "    "
   ]
  },
  {
   "cell_type": "markdown",
   "metadata": {},
   "source": [
    "Let us just count the results for Alice and Bob only."
   ]
  },
  {
   "cell_type": "code",
   "execution_count": 100,
   "metadata": {},
   "outputs": [],
   "source": [
    "counts_wE = {} # counts with Eve present\n",
    "out_wE = [(outA[i][0], outB[i][0], outA[i][1], outB[i][1]) for i in range(RUNS)]\n",
    "for x in out_wE:\n",
    "    counts_wE[x] = counts_wE.get(x, 0) + 1"
   ]
  },
  {
   "cell_type": "markdown",
   "metadata": {},
   "source": [
    "What do we observe in case $a=b$?"
   ]
  },
  {
   "cell_type": "code",
   "execution_count": 101,
   "metadata": {},
   "outputs": [
    {
     "name": "stdout",
     "output_type": "stream",
     "text": [
      "{(0, 0): 206, (0, 1): 70, (1, 0): 67, (1, 1): 185}\n"
     ]
    }
   ],
   "source": [
    "eq_out_wE = {(0, 0): 0, (0, 1): 0, (1, 0): 0, (1, 1): 0}\n",
    "for x in counts_wE:\n",
    "    if x[0] == x[1]:\n",
    "        eq_out_wE[x[2:]] += counts_wE[x]\n",
    "print(eq_out_wE)"
   ]
  },
  {
   "cell_type": "code",
   "execution_count": 102,
   "metadata": {},
   "outputs": [
    {
     "data": {
      "image/png": "[encoded data removed]",
      "text/plain": [
       "<Figure size 700x500 with 1 Axes>"
      ]
     },
     "execution_count": 102,
     "metadata": {},
     "output_type": "execute_result"
    }
   ],
   "source": [
    "plot_histogram([eq_out_wE, eq_out], legend=[\"with Eve present\", \"no Eve\"])"
   ]
  },
  {
   "cell_type": "markdown",
   "metadata": {},
   "source": [
    "Let us formally continue in the process of key establishment, when Alice and Bob publicly, through an authenticated channel compare their choices of the bases. If Eve can perfectly eavesdrop on this channel, she can also try to reconstruct key on her side by selecting only the bits where Alice's and Bob's choices of basis were the same."
   ]
  },
  {
   "cell_type": "code",
   "execution_count": 103,
   "metadata": {},
   "outputs": [],
   "source": [
    "# Publicly shared information of ALice and Bob\n",
    "publicA = [x[0] for x in outA]\n",
    "publicB = [y[0] for y in outB]\n",
    "\n",
    "# Locally stored keys obtained from public information\n",
    "keyA = []\n",
    "keyB = []\n",
    "keyE = []\n",
    "\n",
    "for i in range(RUNS):\n",
    "    if publicA[i] == publicB[i]:\n",
    "        keyA += [outA[i][1]]\n",
    "        keyB += [outB[i][1]]\n",
    "        keyE += [outE[i][1]]"
   ]
  },
  {
   "cell_type": "markdown",
   "metadata": {},
   "source": [
    "We can now construct a correlator function which will tell us in how many % compared keys are the same."
   ]
  },
  {
   "cell_type": "code",
   "execution_count": 104,
   "metadata": {},
   "outputs": [],
   "source": [
    "def correlation(x, y):\n",
    "    size = len(x)\n",
    "    count = 0\n",
    "    for j in range(size):\n",
    "        if x[j] == y[j]:\n",
    "            count += 1\n",
    "    return count / size"
   ]
  },
  {
   "cell_type": "markdown",
   "metadata": {},
   "source": [
    "Comparing keys of Alice and Bob:"
   ]
  },
  {
   "cell_type": "code",
   "execution_count": 105,
   "metadata": {},
   "outputs": [
    {
     "name": "stdout",
     "output_type": "stream",
     "text": [
      "Alice's and Bob's keys agree in 74.1% bits\n"
     ]
    }
   ],
   "source": [
    "print(\"Alice's and Bob's keys agree in {:.1f}% bits\".format(100*correlation(keyA, keyB)))"
   ]
  },
  {
   "cell_type": "markdown",
   "metadata": {},
   "source": [
    "Comparing Alice's or Bob's keys with Eve's key:"
   ]
  },
  {
   "cell_type": "code",
   "execution_count": 106,
   "metadata": {},
   "outputs": [
    {
     "name": "stdout",
     "output_type": "stream",
     "text": [
      "Alice's and Eve's keys agree in 62.1% bits\n",
      "Bob's and Eve's keys agree in 73.3% bits\n"
     ]
    }
   ],
   "source": [
    "print(\"Alice's and Eve's keys agree in {:.1f}% bits\".format(100*correlation(keyA, keyE)))\n",
    "print(\"Bob's and Eve's keys agree in {:.1f}% bits\".format(100*correlation(keyB, keyE)))"
   ]
  },
  {
   "cell_type": "code",
   "execution_count": null,
   "metadata": {},
   "outputs": [],
   "source": []
  }
 ],
 "metadata": {
  "kernelspec": {
   "display_name": "Python 3 (ipykernel)",
   "language": "python",
   "name": "python3"
  },
  "language_info": {
   "codemirror_mode": {
    "name": "ipython",
    "version": 3
   },
   "file_extension": ".py",
   "mimetype": "text/x-python",
   "name": "python",
   "nbconvert_exporter": "python",
   "pygments_lexer": "ipython3",
   "version": "3.7.13"
  }
 },
 "nbformat": 4,
 "nbformat_minor": 2
}
