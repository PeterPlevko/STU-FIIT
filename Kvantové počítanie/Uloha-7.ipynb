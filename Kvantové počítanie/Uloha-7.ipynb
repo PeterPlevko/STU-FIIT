{
 "cells": [
  {
   "cell_type": "markdown",
   "metadata": {},
   "source": [
    "# States, gates and measurements"
   ]
  },
  {
   "attachments": {},
   "cell_type": "markdown",
   "metadata": {},
   "source": [
    "Komentare k ulohe:\n",
    "Mali ste simulovat meranie v baze U|0>, U|1>, takze po priprave stavu |-> malo ist U^\\dagger, t.j. u(theta2, phi2, lambda2)... a porovnat qasm s vecsim, alebo teoretickym vypoctom"
   ]
  },
  {
   "cell_type": "markdown",
   "metadata": {},
   "source": [
    "Every computation consists of three parts:\n",
    "* state preparation - in Qiskit it is always state $|0\\rangle$,\n",
    "* state evolution - changes to states, in quantum computers composed of simple gates,\n",
    "* measurements - in Qiskit only in $\\{|0\\rangle, |1\\rangle\\}$ basis.\n",
    "\n",
    "Due to the limitations imposed by the state preparation and measurement in Qiskit, if we want to prepare a specific state, or if we want to measure in different basis, we need to bypass the limitations by specific changes we perform to state $|0\\rangle$ and to the computed state before $\\{|0\\rangle, |1\\rangle\\}$ measurement. We will go through these steps on the simplest quantum system, on the *qubit*. Along the way we will learn basic functionality of Qiskit library."
   ]
  },
  {
   "cell_type": "markdown",
   "metadata": {},
   "source": [
    "Practical quantum computations have their specifics, as we are finding out, but the structure of computation is similar to the classical computation, where we apply different gates on register to obtain some desired outcome. In quantum cases the register will be composed of qubits, the gates will perform unitary changes (represented by unitary matrices) and the readout is obtained through measurement from the qubit register to the classical register. As we will see, the circuits will be drawn also similarly to the classical case."
   ]
  },
  {
   "cell_type": "markdown",
   "metadata": {},
   "source": [
    "## Qubit"
   ]
  },
  {
   "cell_type": "markdown",
   "metadata": {},
   "source": [
    "Qubits are vectors in $\\mathbb C^2$ and so they are defined by two complex numbers. One degree of freedom is removed because we do not care about complex unit prefactor of the vector and another is removed because we want our states to be normalized, $\\langle\\psi|\\psi\\rangle=1$. We will now look at different ways of looking at states in *Qiskit*."
   ]
  },
  {
   "cell_type": "code",
   "execution_count": null,
   "metadata": {},
   "outputs": [],
   "source": [
    "# Basic initiallizations\n",
    "import qiskit\n",
    "import random\n",
    "import math\n",
    "from qiskit.visualization import plot_histogram, plot_state_city, plot_state_paulivec,\\\n",
    "    plot_bloch_multivector, plot_state_hinton, plot_state_qsphere\n",
    "# following \"magic function\" sets the backend of matplotlib to the 'inline' backend; not always necessary\n",
    "%matplotlib inline "
   ]
  },
  {
   "cell_type": "markdown",
   "metadata": {},
   "source": [
    "Let us start with a simple circuit having one qubit and no classical register."
   ]
  },
  {
   "cell_type": "code",
   "execution_count": null,
   "metadata": {},
   "outputs": [],
   "source": [
    "circ = qiskit.QuantumCircuit(1, 1) # initializes circuit with 1 qubit and 1 classical bit (for readout)\n",
    "circ.h(0) # applies hadamard transform H on the qubit 0\n",
    "circ.draw(output=\"mpl\") # draws out the circuit"
   ]
  },
  {
   "cell_type": "markdown",
   "metadata": {},
   "source": [
    "We can define measurement separately."
   ]
  },
  {
   "cell_type": "code",
   "execution_count": null,
   "metadata": {},
   "outputs": [],
   "source": [
    "measure_z = qiskit.QuantumCircuit(1, 1) # measurement will be defined on circuit with\n",
    "                                        # one qubit and one (readout) classical bit\n",
    "measure_z.measure(0, 0) # applies measurement from qubit 0 to bit 0\n",
    "                        # without parameters performs measurement of the whole register to a bit register\n",
    "measure_z.draw(output=\"mpl\")"
   ]
  },
  {
   "cell_type": "markdown",
   "metadata": {},
   "source": [
    "The basic circuit can now be composed with the measurement into larger circuit to make *the quantum random number generator*."
   ]
  },
  {
   "cell_type": "code",
   "execution_count": null,
   "metadata": {},
   "outputs": [],
   "source": [
    "circZ = circ.compose(measure_z)\n",
    "circZ.draw(output=\"mpl\")"
   ]
  },
  {
   "cell_type": "markdown",
   "metadata": {},
   "source": [
    "We have seen this circuit previously and we know what we will measure."
   ]
  },
  {
   "cell_type": "code",
   "execution_count": null,
   "metadata": {},
   "outputs": [],
   "source": [
    "qasm = qiskit.Aer.get_backend(\"qasm_simulator\") # backends are defined in Aer library of qiskit\n",
    "job = qiskit.execute(circZ, qasm, shots=1024) # executes 1024 runs of circZ on qasm backend (qasm_simulator)\n",
    "print(job.result().get_counts()) # provides obtained results"
   ]
  },
  {
   "cell_type": "markdown",
   "metadata": {},
   "source": [
    "These results can be presented in the form of histogram."
   ]
  },
  {
   "cell_type": "code",
   "execution_count": null,
   "metadata": {},
   "outputs": [],
   "source": [
    "plot_histogram(job.result().get_counts()) # plots histogram of obtained results"
   ]
  },
  {
   "cell_type": "markdown",
   "metadata": {},
   "source": [
    "Previous simulation performed 1024 experimental runs on given circuit, which is something that a real experiment (and real quantum computer) would give us. But this information is not complete - single measurement gives us only partial information and only in a statistical form. What we find are the probabilities of obtaining given outcomes. In previous case in <code>circ</code> we prepared the $|+\\rangle=\\frac{1}{\\sqrt{2}}(|0\\rangle + |1\\rangle)$ state. But the measurements measures in $\\{|0\\rangle,|1\\rangle\\}$ basis. The probabilities are given by the *Born rule:* having a state $|\\psi\\rangle$, the probability of measuring it in (basis) state $|\\phi\\rangle$ is $p_{\\phi}(|\\psi\\rangle)=|\\langle\\phi | \\psi\\rangle|^2$. In this case we find $p_0(|+\\rangle)=p_1(|+\\rangle)=1/2$. So roughly half of the results (512) should give outcome 0 and half should give outcome 1. This circuit indeed presents the quantum random number generator (although only when run on quantum device)."
   ]
  },
  {
   "cell_type": "markdown",
   "metadata": {},
   "source": [
    "Previous description via simulation does offer a good way of comparing with experiments, but we can gat full information about the state (before measurement) by invoking the <code>statevector_simulator</code> backend. Note, that now we will use circuit without measurement, because we want to see what the state is before the measurement; if we would look at it after measurement, the state would be changed into one of the measurement basis states randomly."
   ]
  },
  {
   "cell_type": "code",
   "execution_count": null,
   "metadata": {},
   "outputs": [],
   "source": [
    "vecsim = qiskit.Aer.get_backend('statevector_simulator') # statevector simulator backend\n",
    "job = qiskit.execute(circ, vecsim) # using statevector simulator on does not need to \n",
    "result = job.result()\n",
    "psi  = result.get_statevector(circ)"
   ]
  },
  {
   "cell_type": "markdown",
   "metadata": {},
   "source": [
    "The output state (before measurement) is now stored in <code>psi</code>"
   ]
  },
  {
   "cell_type": "code",
   "execution_count": null,
   "metadata": {},
   "outputs": [],
   "source": [
    "print(psi)"
   ]
  },
  {
   "cell_type": "markdown",
   "metadata": {},
   "source": [
    "We can visualise it in several different ways. For now we will use Bloch vector representation - each state can be represented as a vector on a sphere (vis. two free parameters described at the beginning)."
   ]
  },
  {
   "cell_type": "code",
   "execution_count": null,
   "metadata": {},
   "outputs": [],
   "source": [
    "plot_bloch_multivector(psi)"
   ]
  },
  {
   "cell_type": "markdown",
   "metadata": {},
   "source": [
    "Other forms include functions <code>plot_state_paulivec(psi)</code>, <code>plot_state_hinton(psi)</code>, <code>plot_state_city(psi)</code>, <code>plot_state_qsphere(psi)</code> and others. They all represent the same information about the state, but represented differently. Without going into explanation, you can run them next."
   ]
  },
  {
   "cell_type": "code",
   "execution_count": null,
   "metadata": {},
   "outputs": [],
   "source": [
    "plot_state_paulivec(psi)"
   ]
  },
  {
   "cell_type": "code",
   "execution_count": null,
   "metadata": {},
   "outputs": [],
   "source": [
    "plot_state_hinton(psi)"
   ]
  },
  {
   "cell_type": "code",
   "execution_count": null,
   "metadata": {},
   "outputs": [],
   "source": [
    "plot_state_city(psi)"
   ]
  },
  {
   "cell_type": "code",
   "execution_count": null,
   "metadata": {},
   "outputs": [],
   "source": [
    "plot_state_qsphere(psi)"
   ]
  },
  {
   "cell_type": "markdown",
   "metadata": {},
   "source": [
    "## Preparing (random state)"
   ]
  },
  {
   "cell_type": "markdown",
   "metadata": {},
   "source": [
    "In the previous part we started with state $|0\\rangle$ and applied Hadamard gate on it. Hadamard gate in the theoretical desription applies unitary matrix\n",
    "\n",
    "$$\n",
    "H=\\frac{1}{\\sqrt{2}}\\begin{pmatrix} 1 & 1 \\\\ 1 & -1\\end{pmatrix}\n",
    "$$\n",
    "\n",
    "on the state on the input. We can look at $H$ as a part of computation, but we can look at it also as a state $|+\\rangle$ preparation.\n",
    "\n",
    "To change some state, or to prepare a state we have multiple options of gates to apply. An exhaustive list can be found in <a href=\"https://qiskit.org/textbook/ch-states/single-qubit-gates.html\">Qiskit tutorial</a>, but we will use only a fraction of those gates. We will mostly use Hadamard gate (`h`), NOT gate, or Pauli $\\sigma_x$ gate (`x`), or the universal single-qubit rotation gate\n",
    "\n",
    "$$\n",
    "U(\\theta, \\phi, \\lambda) = \\begin{pmatrix}\n",
    "\\cos(\\theta/2) & -e^{i\\lambda}\\sin(\\theta/2) \\\\\n",
    "e^{i\\phi}\\sin(\\theta/2) & e^{i\\lambda + i\\phi}\\cos(\\theta/2)\n",
    "\\end{pmatrix}.\n",
    "$$\n",
    "\n",
    "We will now look at how to prepare some specific state. We choose at the beginning some random rotation of the state $|0\\rangle$, then predict the outcome probabilities for measurement in the computational basis, run the simulator and compare the results with our theoretical predictions. To rotate state we will use the $U(\\theta, \\phi, \\lambda)$ unitary gate."
   ]
  },
  {
   "cell_type": "code",
   "execution_count": null,
   "metadata": {},
   "outputs": [],
   "source": [
    "theta = math.pi * random.random() # theta can be restricted to interval [0, pi]\n",
    "phi = 2 * math.pi * random.random() # phi will be from interval [0, 2pi]\n",
    "lam = 2 * math.pi * random.random() # lambda will be from interval [0, 2pi]\n",
    "print(\"Chosen angles are:\", (theta, phi, lam))"
   ]
  },
  {
   "cell_type": "markdown",
   "metadata": {},
   "source": [
    "Let us prepare a circuit that rotates the state $|0\\rangle$ by the $U(\\theta, \\phi, \\lambda)$ gate."
   ]
  },
  {
   "cell_type": "code",
   "execution_count": null,
   "metadata": {},
   "outputs": [],
   "source": [
    "rot = qiskit.QuantumCircuit(1, 1)\n",
    "rot.u(theta, phi, lam, 0)\n",
    "job = qiskit.execute(rot, vecsim)\n",
    "psi = job.result().get_statevector(rot)\n",
    "rot.draw(output=\"mpl\")"
   ]
  },
  {
   "cell_type": "markdown",
   "metadata": {},
   "source": [
    "We can find what the prepared state $|\\psi\\rangle$ now is:"
   ]
  },
  {
   "cell_type": "code",
   "execution_count": null,
   "metadata": {},
   "outputs": [],
   "source": [
    "print(psi)"
   ]
  },
  {
   "cell_type": "markdown",
   "metadata": {},
   "source": [
    "We can draw the Bloch sphere representation"
   ]
  },
  {
   "cell_type": "code",
   "execution_count": null,
   "metadata": {},
   "outputs": [],
   "source": [
    "plot_bloch_multivector(psi)"
   ]
  },
  {
   "cell_type": "markdown",
   "metadata": {},
   "source": [
    "The probabilities to obtain 0 or 1 is then given by $p_0=|\\langle 0|\\psi\\rangle|^2$ and $p_1=|\\langle 1|\\psi\\rangle|^2$; these probabilities can be obtained directly from the statevector (which is exact):"
   ]
  },
  {
   "cell_type": "code",
   "execution_count": null,
   "metadata": {},
   "outputs": [],
   "source": [
    "print(\"p0 =\",abs(psi[0])**2)\n",
    "print(\"p1 =\",abs(psi[1])**2)"
   ]
  },
  {
   "cell_type": "markdown",
   "metadata": {},
   "source": [
    "But we can get these probabilities also directly from the initial angle. The state after transform $U(\\theta, \\phi, \\lambda)$ is\n",
    "$$\n",
    "U(\\theta,\\phi,\\lambda)|0\\rangle = \\begin{pmatrix}\n",
    "\\cos(\\theta/2) & -e^{i\\lambda}\\sin(\\theta/2) \\\\\n",
    "e^{i\\phi}\\sin(\\theta/2) & e^{i\\lambda + i\\phi}\\cos(\\theta/2)\n",
    "\\end{pmatrix}\\begin{pmatrix} 1 \\\\ 0\\end{pmatrix} = \\begin{pmatrix} \\cos\\frac{\\theta}{2} \\\\ e^{i\\phi}\\sin\\frac{\\theta}{2} \\end{pmatrix} $$\n",
    "and so $p_0=\\cos^2\\frac{\\theta}{2}$ and $p_1=\\sin^2\\frac{\\theta}{2}$:"
   ]
  },
  {
   "cell_type": "code",
   "execution_count": null,
   "metadata": {},
   "outputs": [],
   "source": [
    "p_th = {\"0\": math.cos(theta / 2)**2, \"1\": math.sin(theta / 2)**2}\n",
    "print(\"p0 =\", p_th[\"0\"])\n",
    "print(\"p1 =\", p_th[\"1\"])"
   ]
  },
  {
   "cell_type": "markdown",
   "metadata": {},
   "source": [
    "Finally, if we run the program several times on simulator, the probabilities we obtain are similar."
   ]
  },
  {
   "cell_type": "code",
   "execution_count": null,
   "metadata": {},
   "outputs": [],
   "source": [
    "job = qiskit.execute(rot.compose(measure_z), qasm, shots=1024)\n",
    "plot_histogram([job.result().get_counts(), p_th], legend=[\"QASM\", \"Theor\"])"
   ]
  },
  {
   "cell_type": "markdown",
   "metadata": {},
   "source": [
    "## Measuring in basis"
   ]
  },
  {
   "cell_type": "markdown",
   "metadata": {},
   "source": [
    "It was shown that measurement in basis $\\{U|0\\rangle, U|1\\rangle\\}$ of a state $|\\psi\\rangle$ is the same as measurement of state $U^\\dagger|\\psi\\rangle$ in basis $\\{|0\\rangle, |1\\rangle\\}$. For example if we want to measure in basis $\\{|\\pm\\rangle\\}$, which is obtained from the computational basis by Hadamard gate $H$, it is the same as first transforming state by the gate $H^\\dagger$ and then measuring in the computational basis. And since $H^\\dagger=H$, measurement in Hadamard basis is simply done by transforming state by the Hadamard gate and then measuring in the computational basis:"
   ]
  },
  {
   "cell_type": "code",
   "execution_count": null,
   "metadata": {},
   "outputs": [],
   "source": [
    "measure_h = qiskit.QuantumCircuit(1, 1) # measurement will be defined on circuit with\n",
    "                                        # one qubit and one (readout) classical bit\n",
    "measure_h.h(0) # change of basis\n",
    "measure_h.measure(0, 0) # applies measurement from qubit 0 to bit 0\n",
    "                        # without parameters performs measurement of the whole register to a bit register\n",
    "measure_h.draw(output=\"mpl\")"
   ]
  },
  {
   "cell_type": "markdown",
   "metadata": {},
   "source": [
    "**Task:** Now write a program that\n",
    "1. Prepares state $|-\\rangle$,\n",
    "2. Measures it in randomly chosen basis\n",
    "3. Compares simulated results with your theoretical predictions"
   ]
  },
  {
   "cell_type": "markdown",
   "metadata": {},
   "source": [
    "The structure of your program should follow structure:"
   ]
  },
  {
   "cell_type": "code",
   "execution_count": null,
   "metadata": {},
   "outputs": [],
   "source": [
    "## 0. Import necessary libraries (if you need some new ones)\n",
    "## 1. Initialize circuit\n",
    "## 2. Prepare state |->\n",
    "## 3. Choose (theta, phi, lam) of u gate that define the rotation of the basis {|0>, |1>}\n",
    "##    to basis {U|0>, U|1>}\n",
    "## 4. Find such parameters (theta2, phi2, lam2) for which the rotation of\n",
    "##    the state by u get and computational basis measurement will efficiently perform measurement\n",
    "##    in the basis from point 3, i.e. find parameters for adjoint matrix of U\n",
    "## 5. Perform measurement and obtain simulated results\n",
    "## 6. Compute theoretical probabilities for the outcomes and compare these probabilities with\n",
    "##    the simulated results"
   ]
  },
  {
   "cell_type": "markdown",
   "metadata": {},
   "source": [
    "The task requires from you to compare the results from QASM simulator and one of the theoretical results either visually as presented above, or at least mention that they are the same within statistical error."
   ]
  },
  {
   "cell_type": "markdown",
   "metadata": {},
   "source": [
    "# Poznámka\n",
    "Úlohu som riešil s kamarátmi, kde sme v podstate nikto nevedeli čo máme presne robiť, a teda odovzdávam to, k čomu sme sa aspoň nejako dopracovali, aj ak to nie je zrejme správne"
   ]
  },
  {
   "cell_type": "code",
   "execution_count": 1,
   "metadata": {},
   "outputs": [],
   "source": [
    "from math import sqrt\n",
    "from qiskit import QuantumCircuit\n",
    "import qiskit\n",
    "import random\n",
    "import math\n",
    "from qiskit.visualization import plot_histogram, plot_state_city, plot_state_paulivec,\\\n",
    "    plot_bloch_multivector, plot_state_hinton, plot_state_qsphere"
   ]
  },
  {
   "cell_type": "code",
   "execution_count": 2,
   "metadata": {},
   "outputs": [
    {
     "data": {
      "image/png": "[encoded data removed]",
      "text/plain": [
       "<Figure size 269.064x200.667 with 1 Axes>"
      ]
     },
     "execution_count": 2,
     "metadata": {},
     "output_type": "execute_result"
    }
   ],
   "source": [
    "minus_vec = [1/sqrt(2), -1/sqrt(2)]\n",
    "circuit = QuantumCircuit(1,1)\n",
    "\n",
    "# Initializing the 1st Qubit with the given vector\n",
    "circuit.initialize(minus_vec, 0)\n",
    "# Drawing the Quantum Circuit\n",
    "circuit.draw(output=\"mpl\")"
   ]
  },
  {
   "cell_type": "code",
   "execution_count": 3,
   "metadata": {},
   "outputs": [
    {
     "name": "stdout",
     "output_type": "stream",
     "text": [
      "Chosen angles are: (0.2408423028959986, 2.2788087662752945, 1.2867202028620173)\n"
     ]
    }
   ],
   "source": [
    "theta = math.pi * random.random() # theta can be restricted to interval [0, pi]\n",
    "phi = 2 * math.pi * random.random() # phi will be from interval [0, 2pi]\n",
    "lam = 2 * math.pi * random.random() # lambda will be from interval [0, 2pi]\n",
    "print(\"Chosen angles are:\", (theta, phi, lam))"
   ]
  },
  {
   "cell_type": "code",
   "execution_count": 4,
   "metadata": {},
   "outputs": [
    {
     "data": {
      "image/png": "[encoded data removed]",
      "text/plain": [
       "<Figure size 519.897x200.667 with 1 Axes>"
      ]
     },
     "execution_count": 4,
     "metadata": {},
     "output_type": "execute_result"
    }
   ],
   "source": [
    "circuit.u(theta, phi, lam, 0)\n",
    "vecsim = qiskit.Aer.get_backend('statevector_simulator')\n",
    "job = qiskit.execute(circuit, vecsim)\n",
    "psi2 = job.result().get_statevector(circuit)\n",
    "circuit.draw(output=\"mpl\")\n",
    "circuit.measure(0,0)\n",
    "circuit.draw(output=\"mpl\")\n"
   ]
  },
  {
   "cell_type": "code",
   "execution_count": 5,
   "metadata": {},
   "outputs": [
    {
     "name": "stdout",
     "output_type": "stream",
     "text": [
      "Statevector([0.72579359+0.08154045j, 0.58460211+0.35329194j],\n",
      "            dims=(2,))\n"
     ]
    }
   ],
   "source": [
    "print(psi2)"
   ]
  },
  {
   "cell_type": "code",
   "execution_count": 6,
   "metadata": {},
   "outputs": [
    {
     "name": "stdout",
     "output_type": "stream",
     "text": [
      "p0 = 0.5334251849114825\n",
      "p1 = 0.4665748150885174\n"
     ]
    }
   ],
   "source": [
    "res = {\"0\": abs(psi2[0])**2, \"1\":  abs(psi2[1])**2}\n",
    "print(\"p0 =\", res[\"0\"])\n",
    "print(\"p1 =\", res[\"1\"])"
   ]
  },
  {
   "cell_type": "code",
   "execution_count": 7,
   "metadata": {},
   "outputs": [
    {
     "data": {
      "image/png": "[encoded data removed]",
      "text/plain": [
       "<Figure size 700x500 with 1 Axes>"
      ]
     },
     "execution_count": 7,
     "metadata": {},
     "output_type": "execute_result"
    }
   ],
   "source": [
    "qasm = qiskit.Aer.get_backend(\"qasm_simulator\")\n",
    "job = qiskit.execute(circuit.compose(circuit), qasm, shots=1024)\n",
    "plot_histogram([job.result().get_counts(), res], legend=[\"QASM\", \"Theor\"])"
   ]
  },
  {
   "cell_type": "code",
   "execution_count": null,
   "metadata": {},
   "outputs": [],
   "source": []
  },
  {
   "cell_type": "code",
   "execution_count": null,
   "metadata": {},
   "outputs": [],
   "source": []
  }
 ],
 "metadata": {
  "kernelspec": {
   "display_name": "Python 3",
   "language": "python",
   "name": "python3"
  },
  "language_info": {
   "codemirror_mode": {
    "name": "ipython",
    "version": 3
   },
   "file_extension": ".py",
   "mimetype": "text/x-python",
   "name": "python",
   "nbconvert_exporter": "python",
   "pygments_lexer": "ipython3",
   "version": "3.11.0"
  },
  "vscode": {
   "interpreter": {
    "hash": "c261aea317cc0286b3b3261fbba9abdec21eaa57589985bb7a274bf54d6cc0a7"
   }
  }
 },
 "nbformat": 4,
 "nbformat_minor": 2
}
